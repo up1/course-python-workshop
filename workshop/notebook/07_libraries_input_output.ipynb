{
 "cells": [
  {
   "cell_type": "markdown",
   "id": "25d18c06-4469-4c97-b1a0-975325dbc4c4",
   "metadata": {},
   "source": [
    "# Libraries – Input & Output"
   ]
  },
  {
   "cell_type": "markdown",
   "id": "e61c9d58-d6dc-426a-952f-a44816fbd721",
   "metadata": {},
   "source": [
    "* https://docs.python.org/3/library/functions.html#open\n",
    "* https://docs.python.org/3/reference/compound_stmts.html#the-with-statement\n",
    "* https://docs.python.org/3/library/io.html\n",
    "* https://docs.python.org/3/library/csv.html"
   ]
  },
  {
   "cell_type": "markdown",
   "id": "d163a71f-f2f5-4503-bd31-16468a90a2f8",
   "metadata": {},
   "source": [
    "## Stdout, Stderr, and Stdin"
   ]
  },
  {
   "cell_type": "code",
   "execution_count": 1,
   "id": "9a127cdb-aad4-4394-a912-f652d85e77df",
   "metadata": {},
   "outputs": [
    {
     "name": "stdout",
     "output_type": "stream",
     "text": [
      "The default print is just printing to stdout\n"
     ]
    }
   ],
   "source": [
    "print('The default print is just printing to stdout')"
   ]
  },
  {
   "cell_type": "code",
   "execution_count": 2,
   "id": "b6649337-f409-44c3-bc74-85371957e100",
   "metadata": {},
   "outputs": [
    {
     "name": "stderr",
     "output_type": "stream",
     "text": [
      "Error: height must > 0\n"
     ]
    }
   ],
   "source": [
    "import sys\n",
    "print('Error: height must > 0', file=sys.stderr)"
   ]
  },
  {
   "cell_type": "code",
   "execution_count": 4,
   "id": "4f9f2d4a-3f6b-49e3-bca4-864cd85fd12f",
   "metadata": {},
   "outputs": [
    {
     "name": "stdin",
     "output_type": "stream",
     "text": [
      "Enter the height:  1\n"
     ]
    },
    {
     "data": {
      "text/plain": [
       "1"
      ]
     },
     "execution_count": 4,
     "metadata": {},
     "output_type": "execute_result"
    }
   ],
   "source": [
    "int(input('Enter the height: '))  # from stdin"
   ]
  },
  {
   "cell_type": "markdown",
   "id": "7d72185f-be95-46be-b0ff-2ca75030f2a1",
   "metadata": {},
   "source": [
    "## Working with files"
   ]
  },
  {
   "cell_type": "code",
   "execution_count": 6,
   "id": "c1b27476-5913-4b72-9370-a1438fdd339e",
   "metadata": {},
   "outputs": [],
   "source": [
    "# variables in UPPERCASE are constants in convention\n",
    "# more conventions: https://www.python.org/dev/peps/pep-0008/\n",
    "#\n",
    "# about the dataset:\n",
    "#\n",
    "# - https://github.com/rmcelreath/rethinking/blob/master/data/Howell1.csv\n",
    "# - https://opendata.stackexchange.com/a/7798 \n",
    "#\n",
    "DATASET_FILENAME = 'dataset_howell1.csv'\n",
    "OUTPUT_FILENAME = 'data.txt'"
   ]
  },
  {
   "cell_type": "code",
   "execution_count": 11,
   "id": "9e066982-1f9f-405a-af79-71950fd54b9e",
   "metadata": {},
   "outputs": [],
   "source": [
    "# Open file\n",
    "f = open(DATASET_FILENAME)"
   ]
  },
  {
   "cell_type": "code",
   "execution_count": 13,
   "id": "c8f21659-7abe-41df-9e39-a27ffbf28361",
   "metadata": {},
   "outputs": [
    {
     "name": "stdout",
     "output_type": "stream",
     "text": [
      "\"height\";\"weight\";\"age\";\"male\"\n",
      "151.765;47.8256065;63;1"
     ]
    }
   ],
   "source": [
    "print(next(f), end='')\n",
    "print(next(f), end='')"
   ]
  },
  {
   "cell_type": "markdown",
   "id": "11953b6d-9f7a-4bdf-a873-c2eeb13c16fe",
   "metadata": {},
   "source": [
    "### Open Using Context Manager"
   ]
  },
  {
   "cell_type": "code",
   "execution_count": 14,
   "id": "631df0e6-08db-4916-acdb-5f4f5ced8e66",
   "metadata": {},
   "outputs": [
    {
     "name": "stdout",
     "output_type": "stream",
     "text": [
      "\"height\";\"weight\";\"age\";\"male\"\n",
      "151.765;47.8256065;63;1"
     ]
    }
   ],
   "source": [
    "with open(DATASET_FILENAME) as f:\n",
    "    print(next(f), end='')\n",
    "    print(next(f), end='')"
   ]
  },
  {
   "cell_type": "markdown",
   "id": "67c836ab-02cd-41e0-8f78-fd0bcd73abcd",
   "metadata": {},
   "source": [
    "### Write and Read"
   ]
  },
  {
   "cell_type": "code",
   "execution_count": 16,
   "id": "0c94587c-c9da-46a0-959b-4bc7b76b79a1",
   "metadata": {},
   "outputs": [],
   "source": [
    "# # use Cmd-/ or Ctrl-/ to uncomment\n",
    "\n",
    "# with open(OUTPUT_FILENAME, 'w') as f:\n",
    "\n",
    "#     while True:\n",
    "\n",
    "#         line = input('')\n",
    "#         if line == '':\n",
    "#             break\n",
    "\n",
    "#         f.write(line)\n",
    "#         f.write('\\n')\n",
    "\n",
    "# with open(OUTPUT_FILENAME) as f:\n",
    "    \n",
    "#     for line in f:\n",
    "#         print(line, end='')\n"
   ]
  },
  {
   "cell_type": "markdown",
   "id": "185e76b6-5017-4d50-9daf-7baad5e7b02a",
   "metadata": {},
   "source": [
    "## Load CSV"
   ]
  },
  {
   "cell_type": "code",
   "execution_count": 18,
   "id": "6d104f63-1bc4-4b2c-8e22-3316496832d5",
   "metadata": {},
   "outputs": [
    {
     "name": "stdout",
     "output_type": "stream",
     "text": [
      "skip ['height', 'weight', 'age', 'male']\n",
      "['151.765', '47.8256065', '63', '1']\n",
      "['139.7', '36.4858065', '63', '0']\n",
      "['136.525', '31.864838', '65', '0']\n"
     ]
    }
   ],
   "source": [
    "import csv\n",
    "\n",
    "with open(DATASET_FILENAME) as f:\n",
    "    \n",
    "    csvr = csv.reader(f, delimiter=';')\n",
    "    for line_no, row in enumerate(csvr, start=1):\n",
    "        \n",
    "        if line_no == 1:\n",
    "            print('skip', row)\n",
    "            continue\n",
    "        \n",
    "        if line_no >= 5:\n",
    "            break\n",
    "            \n",
    "        print(row)"
   ]
  },
  {
   "cell_type": "code",
   "execution_count": null,
   "id": "afcc55e8-5a6a-40b6-b7ca-de71186184aa",
   "metadata": {},
   "outputs": [],
   "source": []
  },
  {
   "cell_type": "code",
   "execution_count": null,
   "id": "2b0a5283-5ee8-436f-a543-e8740c5ccaf5",
   "metadata": {},
   "outputs": [],
   "source": []
  },
  {
   "cell_type": "code",
   "execution_count": null,
   "id": "55d324b2-cea6-4dd7-aa74-7cbe603383a6",
   "metadata": {},
   "outputs": [],
   "source": []
  }
 ],
 "metadata": {
  "kernelspec": {
   "display_name": "Python 3 (ipykernel)",
   "language": "python",
   "name": "python3"
  },
  "language_info": {
   "codemirror_mode": {
    "name": "ipython",
    "version": 3
   },
   "file_extension": ".py",
   "mimetype": "text/x-python",
   "name": "python",
   "nbconvert_exporter": "python",
   "pygments_lexer": "ipython3",
   "version": "3.12.10"
  }
 },
 "nbformat": 4,
 "nbformat_minor": 5
}
