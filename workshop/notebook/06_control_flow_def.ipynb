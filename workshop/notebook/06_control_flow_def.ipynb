{
 "cells": [
  {
   "cell_type": "markdown",
   "id": "807e72bd-081d-40b9-a329-76cd7276d726",
   "metadata": {},
   "source": [
    "# Control Flow - Def"
   ]
  },
  {
   "cell_type": "markdown",
   "id": "a1d961ce-7017-4bb9-a130-e94ad85d7432",
   "metadata": {},
   "source": [
    "In Python, 'def' stands for definition and is used to create or define a function."
   ]
  },
  {
   "cell_type": "markdown",
   "id": "e33ca207-89fa-4a47-8c6f-423d812d0d6c",
   "metadata": {},
   "source": [
    "## Functions Are Bricks"
   ]
  },
  {
   "cell_type": "code",
   "execution_count": 1,
   "id": "8ea2a70b-455b-4a40-a6fb-95c9fa9d20dd",
   "metadata": {},
   "outputs": [],
   "source": [
    "def is_prime(n):\n",
    "\n",
    "    if n <= 1:\n",
    "        return False\n",
    "\n",
    "    for i in range(2, n):\n",
    "        if n % i == 0:\n",
    "            return False\n",
    "\n",
    "    return True"
   ]
  },
  {
   "cell_type": "code",
   "execution_count": 2,
   "id": "89650938-c6a4-49ab-835e-01c14a19c65d",
   "metadata": {},
   "outputs": [
    {
     "name": "stdout",
     "output_type": "stream",
     "text": [
      "2 is a prime.\n",
      "3 is a prime.\n",
      "5 is a prime.\n",
      "7 is a prime.\n"
     ]
    }
   ],
   "source": [
    "for n in range(10):\n",
    "    if is_prime(n):\n",
    "        print(n, 'is a prime.')"
   ]
  },
  {
   "cell_type": "code",
   "execution_count": 3,
   "id": "d25f5530-9848-4588-bd5f-608b8431342a",
   "metadata": {},
   "outputs": [],
   "source": [
    "def calc_bmi(height_cm, weight_kg):\n",
    "    height_m = height_cm / 100\n",
    "    return weight_kg / height_m**2"
   ]
  },
  {
   "cell_type": "code",
   "execution_count": 4,
   "id": "976aebc8-a07f-42c5-8963-19447561bd98",
   "metadata": {},
   "outputs": [
    {
     "name": "stdout",
     "output_type": "stream",
     "text": [
      "#1 bmi: 20.78\n",
      "#2 bmi: 21.50\n",
      "#3 bmi: 18.88\n",
      "#4 bmi: 17.05\n"
     ]
    }
   ],
   "source": [
    "health_dicts = [\n",
    "    {'height_cm': 152, 'weight_kg': 48, 'age': 63, 'male_yn': 1},\n",
    "    {'height_cm': 157, 'weight_kg': 53, 'age': 41, 'male_yn': 1},\n",
    "    {'height_cm': 140, 'weight_kg': 37, 'age': 63, 'male_yn': 0},\n",
    "    {'height_cm': 137, 'weight_kg': 32, 'age': 65, 'male_yn': 0},\n",
    "]\n",
    "\n",
    "# s: sum of heights in cm\n",
    "s = 0\n",
    "for no, d in enumerate(health_dicts, start=1):\n",
    "    bmi = calc_bmi(d['height_cm'], d['weight_kg'])\n",
    "    print(f'#{no} bmi: {bmi:.2f}')"
   ]
  },
  {
   "cell_type": "markdown",
   "id": "367a9baa-2130-4bb7-a02d-86e607b7bf3c",
   "metadata": {},
   "source": [
    "## When Calling Functions"
   ]
  },
  {
   "cell_type": "code",
   "execution_count": 5,
   "id": "056036c5-af2d-439f-aa0c-e78129c53dbc",
   "metadata": {},
   "outputs": [],
   "source": [
    "def print_n_add(a, b):\n",
    "    '''Print a, b, and add them.\n",
    "    \n",
    "    * a, b: anything supporting +\n",
    "    '''\n",
    "\n",
    "    print('a  :', a)\n",
    "    print('b  :', b)\n",
    "    print('a+b:', a+b)\n",
    "    print()\n",
    "\n",
    "    return a+b"
   ]
  },
  {
   "cell_type": "markdown",
   "id": "9a3762a9-a5e9-4655-8a85-ccb5afdd27e3",
   "metadata": {},
   "source": [
    "### Keyword Arguments"
   ]
  },
  {
   "cell_type": "code",
   "execution_count": 7,
   "id": "553f0f36-7e97-4fa3-81fe-5bd9536960bc",
   "metadata": {},
   "outputs": [
    {
     "name": "stdout",
     "output_type": "stream",
     "text": [
      "a  : 1\n",
      "b  : 2\n",
      "a+b: 3\n",
      "\n",
      "a  : 1\n",
      "b  : 2\n",
      "a+b: 3\n",
      "\n",
      "a  : 1\n",
      "b  : 2\n",
      "a+b: 3\n",
      "\n"
     ]
    },
    {
     "data": {
      "text/plain": [
       "3"
      ]
     },
     "execution_count": 7,
     "metadata": {},
     "output_type": "execute_result"
    }
   ],
   "source": [
    "print_n_add(1, 2)\n",
    "print_n_add(b=2, a=1)\n",
    "print_n_add(1, b=2)"
   ]
  },
  {
   "cell_type": "markdown",
   "id": "9eb436e1-0bbd-4e7e-840c-3192e6f34a5d",
   "metadata": {},
   "source": [
    "## Unpacking Argument List"
   ]
  },
  {
   "cell_type": "code",
   "execution_count": 24,
   "id": "4e6814ea-c265-437c-b70d-38abbf698630",
   "metadata": {},
   "outputs": [
    {
     "name": "stdout",
     "output_type": "stream",
     "text": [
      "a  : 1\n",
      "b  : 2\n",
      "a+b: 3\n",
      "\n"
     ]
    },
    {
     "data": {
      "text/plain": [
       "3"
      ]
     },
     "execution_count": 24,
     "metadata": {},
     "output_type": "execute_result"
    }
   ],
   "source": [
    "seq = [1, 2]  # List\n",
    "print_n_add(*seq)"
   ]
  },
  {
   "cell_type": "code",
   "execution_count": 25,
   "id": "6b77bd88-c47a-43bb-b3dd-66e78734a4fe",
   "metadata": {},
   "outputs": [
    {
     "ename": "TypeError",
     "evalue": "print_n_add() missing 1 required positional argument: 'b'",
     "output_type": "error",
     "traceback": [
      "\u001b[31m---------------------------------------------------------------------------\u001b[39m",
      "\u001b[31mTypeError\u001b[39m                                 Traceback (most recent call last)",
      "\u001b[36mCell\u001b[39m\u001b[36m \u001b[39m\u001b[32mIn[25]\u001b[39m\u001b[32m, line 2\u001b[39m\n\u001b[32m      1\u001b[39m \u001b[38;5;66;03m# Error\u001b[39;00m\n\u001b[32m----> \u001b[39m\u001b[32m2\u001b[39m \u001b[43mprint_n_add\u001b[49m\u001b[43m(\u001b[49m\u001b[43mseq\u001b[49m\u001b[43m)\u001b[49m\n\u001b[32m      3\u001b[39m \u001b[38;5;66;03m#print_n_add([1, 2])\u001b[39;00m\n",
      "\u001b[31mTypeError\u001b[39m: print_n_add() missing 1 required positional argument: 'b'"
     ]
    }
   ],
   "source": [
    "# Error\n",
    "print_n_add(seq)\n",
    "#print_n_add([1, 2])"
   ]
  },
  {
   "cell_type": "code",
   "execution_count": 26,
   "id": "bfe35466-8311-4907-b873-bf7becde437a",
   "metadata": {},
   "outputs": [
    {
     "name": "stdout",
     "output_type": "stream",
     "text": [
      "a  : 1\n",
      "b  : 2\n",
      "a+b: 3\n",
      "\n",
      "a  : 1\n",
      "b  : 2\n",
      "a+b: 3\n",
      "\n"
     ]
    },
    {
     "data": {
      "text/plain": [
       "3"
      ]
     },
     "execution_count": 26,
     "metadata": {},
     "output_type": "execute_result"
    }
   ],
   "source": [
    "# OK\n",
    "print_n_add(*seq)\n",
    "print_n_add(1, 2)"
   ]
  },
  {
   "cell_type": "code",
   "execution_count": 22,
   "id": "8e375de6-34e0-4080-8c35-3eaea7acd8c8",
   "metadata": {},
   "outputs": [
    {
     "name": "stdout",
     "output_type": "stream",
     "text": [
      "a  : 1\n",
      "b  : 2\n",
      "a+b: 3\n",
      "\n"
     ]
    },
    {
     "data": {
      "text/plain": [
       "3"
      ]
     },
     "execution_count": 22,
     "metadata": {},
     "output_type": "execute_result"
    }
   ],
   "source": [
    "# OK\n",
    "map_ = {'a': 1, 'b': 2}\n",
    "print_n_add(**map_)"
   ]
  },
  {
   "cell_type": "markdown",
   "id": "869792c7-0ec9-4943-b4a4-3de6de597fd8",
   "metadata": {},
   "source": [
    "## Defining Functions"
   ]
  },
  {
   "cell_type": "markdown",
   "id": "89c3bef6-b4d9-4ceb-8acc-e75913e93df2",
   "metadata": {},
   "source": [
    "### Default Values"
   ]
  },
  {
   "cell_type": "code",
   "execution_count": 27,
   "id": "3bf3bf7e-04e1-4f15-ae39-74e2d3c3718f",
   "metadata": {},
   "outputs": [],
   "source": [
    "def inc(x, delta=1):\n",
    "    return x+delta"
   ]
  },
  {
   "cell_type": "code",
   "execution_count": 28,
   "id": "803e069f-abd5-49a8-aada-8e460ada796b",
   "metadata": {},
   "outputs": [
    {
     "name": "stdout",
     "output_type": "stream",
     "text": [
      "2\n",
      "101\n"
     ]
    }
   ],
   "source": [
    "print(inc(1))\n",
    "print(inc(1, 100))"
   ]
  },
  {
   "cell_type": "markdown",
   "id": "6dc7166a-98c9-4333-99fc-73f35b396746",
   "metadata": {},
   "source": [
    "### Arbitrary Argument List"
   ]
  },
  {
   "cell_type": "code",
   "execution_count": 30,
   "id": "4f048a1f-fbb3-4311-a189-eafc2fbca711",
   "metadata": {},
   "outputs": [
    {
     "name": "stdout",
     "output_type": "stream",
     "text": [
      "apple\n",
      "banana\n",
      "orange\n"
     ]
    }
   ],
   "source": [
    "print('apple')\n",
    "print('banana')\n",
    "print('orange')"
   ]
  },
  {
   "cell_type": "code",
   "execution_count": 31,
   "id": "c62ddbe7-8f38-42f6-8cd1-fe3d2e112f78",
   "metadata": {},
   "outputs": [],
   "source": [
    "# s: space\n",
    "def print_s(*args, **kwargs):\n",
    "    return print(*args, end=' ', **kwargs)"
   ]
  },
  {
   "cell_type": "code",
   "execution_count": 32,
   "id": "5c864756-567c-4439-aaf3-509e836e002f",
   "metadata": {},
   "outputs": [
    {
     "name": "stdout",
     "output_type": "stream",
     "text": [
      "apple banana orange "
     ]
    }
   ],
   "source": [
    "print_s('apple')\n",
    "print_s('banana')\n",
    "print_s('orange')"
   ]
  },
  {
   "cell_type": "code",
   "execution_count": 33,
   "id": "9d356d6b-2c47-4a1f-bb6b-81910f2c965d",
   "metadata": {},
   "outputs": [],
   "source": [
    "def print_args(positional_1, positional_2, *positional_others, keyword_only, **other_keywords):\n",
    "    print('positional_1:', positional_1)\n",
    "    print('positional_2:', positional_2)\n",
    "    print('positional_others:', positional_others)\n",
    "    print('keyword_only:', keyword_only)\n",
    "    print('other_keywords:', other_keywords)"
   ]
  },
  {
   "cell_type": "code",
   "execution_count": 34,
   "id": "a3231e03-df0c-4824-9367-c0b19b76ceee",
   "metadata": {},
   "outputs": [
    {
     "name": "stdout",
     "output_type": "stream",
     "text": [
      "positional_1: 1\n",
      "positional_2: 2\n",
      "positional_others: ()\n",
      "keyword_only: k_1\n",
      "other_keywords: {}\n"
     ]
    }
   ],
   "source": [
    "print_args(1, 2, keyword_only='k_1')"
   ]
  },
  {
   "cell_type": "code",
   "execution_count": 35,
   "id": "a6180b7a-dd49-4661-b0c7-bdff9f3b3f1f",
   "metadata": {},
   "outputs": [
    {
     "name": "stdout",
     "output_type": "stream",
     "text": [
      "positional_1: 1\n",
      "positional_2: 2\n",
      "positional_others: (3,)\n",
      "keyword_only: k_1\n",
      "other_keywords: {'keyword_2': 'k_2'}\n"
     ]
    }
   ],
   "source": [
    "print_args(1, 2, 3, keyword_only='k_1', keyword_2='k_2')"
   ]
  },
  {
   "cell_type": "markdown",
   "id": "31900501-a633-4cde-83f8-41b880cbfbac",
   "metadata": {},
   "source": [
    "## Use Immutable Types as Default Values"
   ]
  },
  {
   "cell_type": "code",
   "execution_count": 37,
   "id": "d5796ef2-a213-424f-b72a-c1b34d2ec12b",
   "metadata": {},
   "outputs": [],
   "source": [
    "def bad_default_value_f(l=[]):\n",
    "    l.append(1)\n",
    "    return l"
   ]
  },
  {
   "cell_type": "code",
   "execution_count": 38,
   "id": "7a2b7aaa-b8d0-4cf9-8a1d-1a5f72983b9e",
   "metadata": {},
   "outputs": [
    {
     "name": "stdout",
     "output_type": "stream",
     "text": [
      "[1]\n",
      "[1, 1]\n",
      "[1, 1, 1]\n"
     ]
    }
   ],
   "source": [
    "print(bad_default_value_f())\n",
    "print(bad_default_value_f())\n",
    "print(bad_default_value_f())"
   ]
  },
  {
   "cell_type": "code",
   "execution_count": 39,
   "id": "f9075bb7-5880-4439-8710-fdfea7ad406b",
   "metadata": {},
   "outputs": [],
   "source": [
    "def better_default_value_f(l=None):\n",
    "    if l is None:\n",
    "        l = []\n",
    "    l.append(1)\n",
    "    return l"
   ]
  },
  {
   "cell_type": "code",
   "execution_count": 40,
   "id": "5cc72c85-52a4-4168-9c95-eaf5c8b74980",
   "metadata": {},
   "outputs": [
    {
     "name": "stdout",
     "output_type": "stream",
     "text": [
      "[1]\n",
      "[1]\n",
      "[1]\n"
     ]
    }
   ],
   "source": [
    "print(better_default_value_f())\n",
    "print(better_default_value_f())\n",
    "print(better_default_value_f())"
   ]
  },
  {
   "cell_type": "markdown",
   "id": "390f63d9-ad92-4a60-aa15-07b02eca71de",
   "metadata": {},
   "source": [
    "## Flexibility"
   ]
  },
  {
   "cell_type": "code",
   "execution_count": 42,
   "id": "61ae6057-1f6d-4e82-8fa5-2c31a4a90d38",
   "metadata": {},
   "outputs": [
    {
     "name": "stdout",
     "output_type": "stream",
     "text": [
      "a  : 1\n",
      "b  : 2\n",
      "a+b: 3\n",
      "\n",
      "a  : 1.0\n",
      "b  : 2.0\n",
      "a+b: 3.0\n",
      "\n",
      "a  : a\n",
      "b  : b\n",
      "a+b: ab\n",
      "\n"
     ]
    },
    {
     "data": {
      "text/plain": [
       "'ab'"
      ]
     },
     "execution_count": 42,
     "metadata": {},
     "output_type": "execute_result"
    }
   ],
   "source": [
    "print_n_add(1, 2)\n",
    "print_n_add(1., 2.)\n",
    "print_n_add('a', 'b')"
   ]
  },
  {
   "cell_type": "code",
   "execution_count": 43,
   "id": "fa4ec2ee-cf36-4830-a79f-eaacdc470b99",
   "metadata": {},
   "outputs": [],
   "source": [
    "def sum_args(*args):\n",
    "    '''Sum variables.\n",
    "\n",
    "    The arg can be any object which supports += delimiter.\n",
    "    '''\n",
    "\n",
    "    # https://docs.python.org/3/library/stdtypes.html#iterator-types\n",
    "    args_it = iter(args)\n",
    "    ret_val = next(args_it)\n",
    "    for arg in args_it:\n",
    "        ret_val += arg\n",
    "\n",
    "    return ret_val"
   ]
  },
  {
   "cell_type": "code",
   "execution_count": 44,
   "id": "ad2ab154-5324-48db-a448-511d7c84e0c8",
   "metadata": {},
   "outputs": [
    {
     "name": "stdout",
     "output_type": "stream",
     "text": [
      "6\n",
      "abc\n"
     ]
    }
   ],
   "source": [
    "print(sum_args(1, 2, 3))\n",
    "print(sum_args('a', 'b' 'c'))"
   ]
  },
  {
   "cell_type": "markdown",
   "id": "ae6887d8-885c-40db-84a6-c6c8f942b32a",
   "metadata": {},
   "source": [
    "## Using Docstrings to Cooperate"
   ]
  },
  {
   "cell_type": "code",
   "execution_count": 45,
   "id": "464db0e2-db3b-4f8f-8c8e-30237791e719",
   "metadata": {},
   "outputs": [
    {
     "name": "stdout",
     "output_type": "stream",
     "text": [
      "Help on function print_n_add in module __main__:\n",
      "\n",
      "print_n_add(a, b)\n",
      "    Print a, b, and add them.\n",
      "\n",
      "    * a, b: anything supporting +\n",
      "\n"
     ]
    }
   ],
   "source": [
    "help(print_n_add)"
   ]
  },
  {
   "cell_type": "markdown",
   "id": "362dfda8-b59d-438f-a2df-cdcf3ea773db",
   "metadata": {},
   "source": [
    "## The Small Functions – lambda functions"
   ]
  },
  {
   "cell_type": "code",
   "execution_count": 46,
   "id": "1b61fb58-82e6-4268-bf48-9ca764b24ad7",
   "metadata": {},
   "outputs": [],
   "source": [
    "items = ['Python', 'Ruby', 'JavaScript']"
   ]
  },
  {
   "cell_type": "code",
   "execution_count": 47,
   "id": "48bfdd75-cd8e-4e20-ab4d-d1646c733cb7",
   "metadata": {},
   "outputs": [
    {
     "data": {
      "text/plain": [
       "['JavaScript', 'Python', 'Ruby']"
      ]
     },
     "execution_count": 47,
     "metadata": {},
     "output_type": "execute_result"
    }
   ],
   "source": [
    "items.sort()\n",
    "items"
   ]
  },
  {
   "cell_type": "code",
   "execution_count": 48,
   "id": "322b1ec5-2bbe-40d0-8500-8e0eb6835970",
   "metadata": {},
   "outputs": [
    {
     "data": {
      "text/plain": [
       "['Ruby', 'Python', 'JavaScript']"
      ]
     },
     "execution_count": 48,
     "metadata": {},
     "output_type": "execute_result"
    }
   ],
   "source": [
    "items.sort(key=len)\n",
    "items"
   ]
  },
  {
   "cell_type": "code",
   "execution_count": 49,
   "id": "5034d0c5-4097-46bf-b4ab-72f655d925d3",
   "metadata": {},
   "outputs": [
    {
     "data": {
      "text/plain": [
       "['Python', 'Ruby', 'JavaScript']"
      ]
     },
     "execution_count": 49,
     "metadata": {},
     "output_type": "execute_result"
    }
   ],
   "source": [
    "item_weight_map = {'Python': -90, 'Ruby': -50}\n",
    "items.sort(\n",
    "    key=lambda item: item_weight_map.get(item, 0)\n",
    ")\n",
    "items"
   ]
  },
  {
   "cell_type": "code",
   "execution_count": 50,
   "id": "7e16497e-c3e1-472b-a3b6-513914511783",
   "metadata": {},
   "outputs": [
    {
     "data": {
      "text/plain": [
       "[{'height_cm': 137, 'weight_kg': 32, 'age': 65, 'male_yn': 0},\n",
       " {'height_cm': 140, 'weight_kg': 37, 'age': 63, 'male_yn': 0},\n",
       " {'height_cm': 152, 'weight_kg': 48, 'age': 63, 'male_yn': 1},\n",
       " {'height_cm': 157, 'weight_kg': 53, 'age': 41, 'male_yn': 1}]"
      ]
     },
     "execution_count": 50,
     "metadata": {},
     "output_type": "execute_result"
    }
   ],
   "source": [
    "health_dicts = [\n",
    "    {'height_cm': 152, 'weight_kg': 48, 'age': 63, 'male_yn': 1},\n",
    "    {'height_cm': 157, 'weight_kg': 53, 'age': 41, 'male_yn': 1},\n",
    "    {'height_cm': 140, 'weight_kg': 37, 'age': 63, 'male_yn': 0},\n",
    "    {'height_cm': 137, 'weight_kg': 32, 'age': 65, 'male_yn': 0},\n",
    "]\n",
    "\n",
    "health_dicts.sort(key=lambda d: d['height_cm'])\n",
    "health_dicts"
   ]
  },
  {
   "cell_type": "markdown",
   "id": "b011e305-982c-4926-b080-be9b5d64432d",
   "metadata": {},
   "source": [
    "## The Beautiful Functions – The Decorators"
   ]
  },
  {
   "cell_type": "code",
   "execution_count": 51,
   "id": "025c90fa-1fb8-4cd7-9deb-d599394e0308",
   "metadata": {},
   "outputs": [],
   "source": [
    "def debugee_f(arg):\n",
    "    print('Do something ...')\n",
    "    return arg"
   ]
  },
  {
   "cell_type": "code",
   "execution_count": 52,
   "id": "a82555b0-25de-4be8-aba8-1961f87a75aa",
   "metadata": {},
   "outputs": [
    {
     "name": "stdout",
     "output_type": "stream",
     "text": [
      "Do something ...\n"
     ]
    },
    {
     "data": {
      "text/plain": [
       "1"
      ]
     },
     "execution_count": 52,
     "metadata": {},
     "output_type": "execute_result"
    }
   ],
   "source": [
    "debugee_f(1)"
   ]
  },
  {
   "cell_type": "code",
   "execution_count": 53,
   "id": "22378ceb-da37-45a1-8a51-2f2f1b9e0341",
   "metadata": {},
   "outputs": [],
   "source": [
    "def print_arg_n_call(f):\n",
    "    \n",
    "    def wrapped_f(*args, **kwargs):\n",
    "    \n",
    "        print('args:', args)\n",
    "        print('kwargs:', kwargs)\n",
    "        print()\n",
    "        \n",
    "        return f(*args, **kwargs)\n",
    "    \n",
    "    return wrapped_f"
   ]
  },
  {
   "cell_type": "code",
   "execution_count": 54,
   "id": "4542117c-e7c7-4510-9f67-b4e038e6565e",
   "metadata": {},
   "outputs": [],
   "source": [
    "wrapped_debugee_f = print_arg_n_call(debugee_f)"
   ]
  },
  {
   "cell_type": "code",
   "execution_count": 55,
   "id": "0cf4fdde-efe3-482e-bf22-478e5e4bd8ca",
   "metadata": {},
   "outputs": [
    {
     "name": "stdout",
     "output_type": "stream",
     "text": [
      "args: (2,)\n",
      "kwargs: {}\n",
      "\n",
      "Do something ...\n"
     ]
    },
    {
     "data": {
      "text/plain": [
       "2"
      ]
     },
     "execution_count": 55,
     "metadata": {},
     "output_type": "execute_result"
    }
   ],
   "source": [
    "wrapped_debugee_f(2)"
   ]
  },
  {
   "cell_type": "code",
   "execution_count": 56,
   "id": "67629945-3886-4355-a661-081446d183f1",
   "metadata": {},
   "outputs": [],
   "source": [
    "@print_arg_n_call  # <- decorator\n",
    "def debuggee_g(arg):\n",
    "    print('Do other things ...')\n",
    "    return arg"
   ]
  },
  {
   "cell_type": "code",
   "execution_count": 57,
   "id": "785b219a-a23d-46fb-bce8-f1bd2393bb6e",
   "metadata": {},
   "outputs": [
    {
     "name": "stdout",
     "output_type": "stream",
     "text": [
      "args: (3,)\n",
      "kwargs: {}\n",
      "\n",
      "Do other things ...\n"
     ]
    },
    {
     "data": {
      "text/plain": [
       "3"
      ]
     },
     "execution_count": 57,
     "metadata": {},
     "output_type": "execute_result"
    }
   ],
   "source": [
    "debuggee_g(3)"
   ]
  },
  {
   "cell_type": "markdown",
   "id": "70b0ab68-b271-4678-8a9c-a5b274596d6c",
   "metadata": {},
   "source": [
    "### Simple Logging with Decorator"
   ]
  },
  {
   "cell_type": "code",
   "execution_count": 59,
   "id": "fc0edc02-018d-440f-b68e-d7c6996a0f90",
   "metadata": {},
   "outputs": [],
   "source": [
    "# A simple decorator function\n",
    "def decorator(func):\n",
    "  \n",
    "    def wrapper():\n",
    "        print(\"Before calling the function.\")\n",
    "        func()\n",
    "        print(\"After calling the function.\")\n",
    "    return wrapper"
   ]
  },
  {
   "cell_type": "code",
   "execution_count": 62,
   "id": "cb5d5a39-0d6f-4e60-884b-a830809b8a68",
   "metadata": {},
   "outputs": [],
   "source": [
    "# Applying the decorator to a function\n",
    "@decorator\n",
    "def greet():\n",
    "    print(\"Hello, World!\")"
   ]
  },
  {
   "cell_type": "code",
   "execution_count": 63,
   "id": "fb964d7e-8b5b-42c7-aa20-1f43bf47cdbf",
   "metadata": {},
   "outputs": [
    {
     "name": "stdout",
     "output_type": "stream",
     "text": [
      "Before calling the function.\n",
      "Hello, World!\n",
      "After calling the function.\n"
     ]
    }
   ],
   "source": [
    "greet()"
   ]
  },
  {
   "cell_type": "markdown",
   "id": "2e701a19-0e87-41d5-b2d4-c561ce13cfaf",
   "metadata": {},
   "source": [
    "## Higher-Order Functions"
   ]
  },
  {
   "cell_type": "markdown",
   "id": "6e56d29d-8f1b-4a5e-be91-191e633bb667",
   "metadata": {},
   "source": [
    "Functions that take one or more functions as arguments, return a function as a result or do both."
   ]
  },
  {
   "cell_type": "code",
   "execution_count": 64,
   "id": "102c4942-34d8-4617-acf9-abba2a87d667",
   "metadata": {},
   "outputs": [],
   "source": [
    "# A higher-order function that takes another function as an argument\n",
    "def fun(f, x):\n",
    "    return f(x)\n",
    "\n",
    "# A simple function to pass\n",
    "def square(x):\n",
    "    return x * x"
   ]
  },
  {
   "cell_type": "code",
   "execution_count": 65,
   "id": "49ecbe65-9608-4665-a1f4-17c288b62fb2",
   "metadata": {},
   "outputs": [
    {
     "name": "stdout",
     "output_type": "stream",
     "text": [
      "25\n"
     ]
    }
   ],
   "source": [
    "# Using apply_function to apply the square function\n",
    "res = fun(square, 5)\n",
    "print(res)"
   ]
  },
  {
   "cell_type": "code",
   "execution_count": null,
   "id": "808ecac6-e104-4478-93ee-8bc74d174349",
   "metadata": {},
   "outputs": [],
   "source": []
  }
 ],
 "metadata": {
  "kernelspec": {
   "display_name": "Python 3 (ipykernel)",
   "language": "python",
   "name": "python3"
  },
  "language_info": {
   "codemirror_mode": {
    "name": "ipython",
    "version": 3
   },
   "file_extension": ".py",
   "mimetype": "text/x-python",
   "name": "python",
   "nbconvert_exporter": "python",
   "pygments_lexer": "ipython3",
   "version": "3.12.10"
  }
 },
 "nbformat": 4,
 "nbformat_minor": 5
}
