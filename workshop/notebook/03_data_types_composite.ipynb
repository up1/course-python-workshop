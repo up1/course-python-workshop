{
 "cells": [
  {
   "cell_type": "markdown",
   "id": "25ecee47-5eae-46c6-a0c8-1414792af45d",
   "metadata": {},
   "source": [
    "# Data Types – Composites"
   ]
  },
  {
   "cell_type": "markdown",
   "id": "8fe9c1bb-e0b1-418a-91bb-bc72fc98da6a",
   "metadata": {},
   "source": [
    "## Sequence Types – list, tuple, range"
   ]
  },
  {
   "cell_type": "markdown",
   "id": "8d4019a6-d780-45c5-8838-a425338ad9ce",
   "metadata": {},
   "source": [
    "### List"
   ]
  },
  {
   "cell_type": "code",
   "execution_count": 1,
   "id": "b4be2d2c-7567-425c-94c8-38d8c14e5a65",
   "metadata": {},
   "outputs": [
    {
     "data": {
      "text/plain": [
       "[0, 1, 2, 3, 4, 5, 6, 7, 8, 9]"
      ]
     },
     "execution_count": 1,
     "metadata": {},
     "output_type": "execute_result"
    }
   ],
   "source": [
    "numbers = [0, 1, 2, 3, 4, 5, 6, 7, 8, 9]\n",
    "numbers"
   ]
  },
  {
   "cell_type": "code",
   "execution_count": 2,
   "id": "44e89330-0693-417b-9bb0-1529981503cb",
   "metadata": {},
   "outputs": [
    {
     "data": {
      "text/plain": [
       "10"
      ]
     },
     "execution_count": 2,
     "metadata": {},
     "output_type": "execute_result"
    }
   ],
   "source": [
    "len(numbers)"
   ]
  },
  {
   "cell_type": "code",
   "execution_count": 3,
   "id": "53cb6809-aafb-4ed4-a0ae-70af21cd96aa",
   "metadata": {},
   "outputs": [
    {
     "data": {
      "text/plain": [
       "[0, 1, 2, 3, 4, 5, 6, 7, 8, 9, 10]"
      ]
     },
     "execution_count": 3,
     "metadata": {},
     "output_type": "execute_result"
    }
   ],
   "source": [
    "numbers.append(10)\n",
    "numbers"
   ]
  },
  {
   "cell_type": "code",
   "execution_count": 4,
   "id": "ddf5f3d1-e04d-4c37-bad8-927237d8b78c",
   "metadata": {},
   "outputs": [
    {
     "data": {
      "text/plain": [
       "11"
      ]
     },
     "execution_count": 4,
     "metadata": {},
     "output_type": "execute_result"
    }
   ],
   "source": [
    "len(numbers)"
   ]
  },
  {
   "cell_type": "code",
   "execution_count": 5,
   "id": "554a1bcc-2388-4750-98f1-d8499e58be3d",
   "metadata": {},
   "outputs": [
    {
     "data": {
      "text/plain": [
       "[0, 1, 2, 3, 4, 5, 6, 7, 8, 9, 10, 11, 12]"
      ]
     },
     "execution_count": 5,
     "metadata": {},
     "output_type": "execute_result"
    }
   ],
   "source": [
    "numbers.extend([11, 12])\n",
    "numbers"
   ]
  },
  {
   "cell_type": "code",
   "execution_count": 6,
   "id": "c0d34e50-812d-4a6f-9f4c-67e8dc1aae89",
   "metadata": {},
   "outputs": [
    {
     "data": {
      "text/plain": [
       "[-1, 0, 1, 2, 3, 4, 5, 6, 7, 8, 9, 10, 11, 12]"
      ]
     },
     "execution_count": 6,
     "metadata": {},
     "output_type": "execute_result"
    }
   ],
   "source": [
    "numbers.insert(0, -1)\n",
    "numbers"
   ]
  },
  {
   "cell_type": "code",
   "execution_count": 7,
   "id": "66d6eb4c-f6b0-4fe9-a547-12d77a498e89",
   "metadata": {},
   "outputs": [
    {
     "data": {
      "text/plain": [
       "-1"
      ]
     },
     "execution_count": 7,
     "metadata": {},
     "output_type": "execute_result"
    }
   ],
   "source": [
    "numbers[0]"
   ]
  },
  {
   "cell_type": "code",
   "execution_count": 8,
   "id": "ee072c0e-4f35-4ce0-a1cc-28d853e46dbc",
   "metadata": {},
   "outputs": [
    {
     "data": {
      "text/plain": [
       "12"
      ]
     },
     "execution_count": 8,
     "metadata": {},
     "output_type": "execute_result"
    }
   ],
   "source": [
    "numbers[-1]"
   ]
  },
  {
   "cell_type": "code",
   "execution_count": 10,
   "id": "1fcd00b6-02b5-461e-96c2-9afab151641b",
   "metadata": {},
   "outputs": [
    {
     "data": {
      "text/plain": [
       "-1"
      ]
     },
     "execution_count": 10,
     "metadata": {},
     "output_type": "execute_result"
    }
   ],
   "source": [
    "numbers.pop(0)"
   ]
  },
  {
   "cell_type": "code",
   "execution_count": 12,
   "id": "40055868-6697-4071-8831-ef5d04389895",
   "metadata": {},
   "outputs": [
    {
     "data": {
      "text/plain": [
       "[1, 2, 3, 4, 5, 6, 7, 8, 9]"
      ]
     },
     "execution_count": 12,
     "metadata": {},
     "output_type": "execute_result"
    }
   ],
   "source": [
    "# closed-open interval: [a, b) = {x | a ≤ x < b}\n",
    "# from 1 to 10, not include 10\n",
    "numbers[1:10]"
   ]
  },
  {
   "cell_type": "code",
   "execution_count": 13,
   "id": "9b86c017-d777-463b-b6e1-20ac4848ea2e",
   "metadata": {},
   "outputs": [
    {
     "ename": "IndexError",
     "evalue": "list index out of range",
     "output_type": "error",
     "traceback": [
      "\u001b[31m---------------------------------------------------------------------------\u001b[39m",
      "\u001b[31mIndexError\u001b[39m                                Traceback (most recent call last)",
      "\u001b[36mCell\u001b[39m\u001b[36m \u001b[39m\u001b[32mIn[13]\u001b[39m\u001b[32m, line 1\u001b[39m\n\u001b[32m----> \u001b[39m\u001b[32m1\u001b[39m \u001b[43mnumbers\u001b[49m\u001b[43m[\u001b[49m\u001b[32;43m100\u001b[39;49m\u001b[43m]\u001b[49m  \u001b[38;5;66;03m# -> IndexError\u001b[39;00m\n",
      "\u001b[31mIndexError\u001b[39m: list index out of range"
     ]
    }
   ],
   "source": [
    "numbers[100]  # -> IndexError"
   ]
  },
  {
   "cell_type": "code",
   "execution_count": 19,
   "id": "69652db3-e139-4efb-a7fb-475cf07ef7e3",
   "metadata": {},
   "outputs": [
    {
     "data": {
      "text/plain": [
       "[1, 2, 3, 4, 5, 6, 7, 8, 9, 10]"
      ]
     },
     "execution_count": 19,
     "metadata": {},
     "output_type": "execute_result"
    }
   ],
   "source": [
    "# the Python way to say “inclusive”\n",
    "numbers[1:10+1]"
   ]
  },
  {
   "cell_type": "code",
   "execution_count": 21,
   "id": "c2ff0e0e-d59e-4084-9ff7-6945b8a22bb4",
   "metadata": {},
   "outputs": [
    {
     "data": {
      "text/plain": [
       "[1, 3, 5, 7, 9]"
      ]
     },
     "execution_count": 21,
     "metadata": {},
     "output_type": "execute_result"
    }
   ],
   "source": [
    "numbers[1:10:2] # step by 2"
   ]
  },
  {
   "cell_type": "code",
   "execution_count": 22,
   "id": "8a236467-30db-486c-b36d-2b040a1ecdff",
   "metadata": {},
   "outputs": [
    {
     "data": {
      "text/plain": [
       "[0, 1, 2]"
      ]
     },
     "execution_count": 22,
     "metadata": {},
     "output_type": "execute_result"
    }
   ],
   "source": [
    "numbers[:3]"
   ]
  },
  {
   "cell_type": "code",
   "execution_count": 24,
   "id": "df50ef4c-291c-4b1d-b3cc-a92a17a2eca0",
   "metadata": {},
   "outputs": [
    {
     "data": {
      "text/plain": [
       "[12, 11, 10, 9, 8, 7, 6, 5, 4, 3, 2, 1, 0]"
      ]
     },
     "execution_count": 24,
     "metadata": {},
     "output_type": "execute_result"
    }
   ],
   "source": [
    "numbers[::-1] # reverse"
   ]
  },
  {
   "cell_type": "code",
   "execution_count": 25,
   "id": "4ab5018d-967d-4ba9-b61b-56b11cc0fae3",
   "metadata": {},
   "outputs": [
    {
     "data": {
      "text/plain": [
       "[0, 100, 2, 3, 4, 5, 6, 7, 8, 9, 10, 11, 12]"
      ]
     },
     "execution_count": 25,
     "metadata": {},
     "output_type": "execute_result"
    }
   ],
   "source": [
    "numbers[1] = 100\n",
    "numbers"
   ]
  },
  {
   "cell_type": "code",
   "execution_count": 26,
   "id": "fe9426a2-46cf-496d-b77d-dc2c53fa6aed",
   "metadata": {},
   "outputs": [
    {
     "data": {
      "text/plain": [
       "[-1, 0, 1, 2, 3, 4, 5, 6, 7, 8, 9, 10, 11, 12]"
      ]
     },
     "execution_count": 26,
     "metadata": {},
     "output_type": "execute_result"
    }
   ],
   "source": [
    "numbers[0:2] = [-1, 0, 1]\n",
    "numbers"
   ]
  },
  {
   "cell_type": "code",
   "execution_count": 27,
   "id": "ad8be2de-9fea-4176-94fd-96ec3ccf8026",
   "metadata": {},
   "outputs": [
    {
     "data": {
      "text/plain": [
       "[-1, 100, 0, 1, 2, 3, 4, 5, 6, 7, 8, 9, 10, 11, 12]"
      ]
     },
     "execution_count": 27,
     "metadata": {},
     "output_type": "execute_result"
    }
   ],
   "source": [
    "numbers[1:1] = [100]\n",
    "numbers"
   ]
  },
  {
   "cell_type": "code",
   "execution_count": 28,
   "id": "b22a470b-9208-4048-95d4-e9507fdba2d8",
   "metadata": {},
   "outputs": [
    {
     "data": {
      "text/plain": [
       "[-1, 0, 1, 2, 3, 4, 5, 6, 7, 8, 9, 10, 11, 12, 100]"
      ]
     },
     "execution_count": 28,
     "metadata": {},
     "output_type": "execute_result"
    }
   ],
   "source": [
    "numbers.sort()\n",
    "numbers"
   ]
  },
  {
   "cell_type": "code",
   "execution_count": 29,
   "id": "f2fdf01c-86ee-4b6e-90ff-c025ef09aae8",
   "metadata": {},
   "outputs": [
    {
     "data": {
      "text/plain": [
       "True"
      ]
     },
     "execution_count": 29,
     "metadata": {},
     "output_type": "execute_result"
    }
   ],
   "source": [
    "[1, 2, 3] == [1, 2, 3]"
   ]
  },
  {
   "cell_type": "code",
   "execution_count": 30,
   "id": "656c7fae-8bd3-4cf3-bb8a-cac557c78b5b",
   "metadata": {},
   "outputs": [
    {
     "data": {
      "text/plain": [
       "True"
      ]
     },
     "execution_count": 30,
     "metadata": {},
     "output_type": "execute_result"
    }
   ],
   "source": [
    "[1, 2, 30] > [1, 2, 3]"
   ]
  },
  {
   "cell_type": "code",
   "execution_count": 31,
   "id": "51eb3df7-b4c7-4365-b58c-2c0d32ede1e6",
   "metadata": {},
   "outputs": [
    {
     "data": {
      "text/plain": [
       "True"
      ]
     },
     "execution_count": 31,
     "metadata": {},
     "output_type": "execute_result"
    }
   ],
   "source": [
    "[1, 2, 30] > [1, 2, 3, 4]"
   ]
  },
  {
   "cell_type": "code",
   "execution_count": 32,
   "id": "d79a4478-5d7d-4683-b2dd-574daa3579b4",
   "metadata": {},
   "outputs": [
    {
     "data": {
      "text/plain": [
       "True"
      ]
     },
     "execution_count": 32,
     "metadata": {},
     "output_type": "execute_result"
    }
   ],
   "source": [
    "# linear search: slow when len is large\n",
    "1 in [1, 2, 3]"
   ]
  },
  {
   "cell_type": "code",
   "execution_count": 33,
   "id": "6f26be4b-f7aa-4989-8d60-8fd5f6f9b64d",
   "metadata": {},
   "outputs": [
    {
     "data": {
      "text/plain": [
       "False"
      ]
     },
     "execution_count": 33,
     "metadata": {},
     "output_type": "execute_result"
    }
   ],
   "source": [
    "[1, 2] in [1, 2, 3]"
   ]
  },
  {
   "cell_type": "code",
   "execution_count": 34,
   "id": "ec8f3c9a-23ad-450b-89b7-f290455ce2bb",
   "metadata": {},
   "outputs": [
    {
     "data": {
      "text/plain": [
       "True"
      ]
     },
     "execution_count": 34,
     "metadata": {},
     "output_type": "execute_result"
    }
   ],
   "source": [
    "[1, 2] in [[1, 2], 3]"
   ]
  },
  {
   "cell_type": "code",
   "execution_count": 35,
   "id": "a02d7574-6141-4e68-9b0b-8988f8a5ab66",
   "metadata": {},
   "outputs": [
    {
     "data": {
      "text/plain": [
       "True"
      ]
     },
     "execution_count": 35,
     "metadata": {},
     "output_type": "execute_result"
    }
   ],
   "source": [
    "'12' in '123'"
   ]
  },
  {
   "cell_type": "code",
   "execution_count": 36,
   "id": "46452751-2a5c-4c82-8949-f2b10fa464e4",
   "metadata": {},
   "outputs": [
    {
     "data": {
      "text/plain": [
       "[[152, 48, 63, 1], [157, 53, 41, 1], [140, 37, 63, 0], [137, 32, 65, 0]]"
      ]
     },
     "execution_count": 36,
     "metadata": {},
     "output_type": "execute_result"
    }
   ],
   "source": [
    "# h: height in cm\n",
    "# m: weight in cm\n",
    "# a: age in year\n",
    "# myn: male_yn in int\n",
    "h_m_a_myn_lists = [\n",
    "    [152, 48, 63, 1],\n",
    "    [157, 53, 41, 1],\n",
    "    [140, 37, 63, 0],\n",
    "    [137, 32, 65, 0],\n",
    "]\n",
    "h_m_a_myn_lists"
   ]
  },
  {
   "cell_type": "markdown",
   "id": "a3936dfc-f98d-4343-8f15-93e0049dff8f",
   "metadata": {},
   "source": [
    "## Variables Point to the Same Object"
   ]
  },
  {
   "cell_type": "code",
   "execution_count": 37,
   "id": "e36fd281-73ce-42ac-9c18-1aec1c838305",
   "metadata": {},
   "outputs": [],
   "source": [
    "numbers = [0, 1, 2, 3, 4, 5, 6, 7, 8, 9]"
   ]
  },
  {
   "cell_type": "code",
   "execution_count": 38,
   "id": "f5065a60-8cc0-4d47-a50b-488a867e8a87",
   "metadata": {},
   "outputs": [
    {
     "name": "stdout",
     "output_type": "stream",
     "text": [
      "[0, 100, 2, 3, 4, 5, 6, 7, 8, 9]\n",
      "[0, 100, 2, 3, 4, 5, 6, 7, 8, 9]\n"
     ]
    }
   ],
   "source": [
    "numbers_2 = numbers\n",
    "numbers_2[1] = 100\n",
    "print(numbers)\n",
    "print(numbers_2)"
   ]
  },
  {
   "cell_type": "code",
   "execution_count": 39,
   "id": "a5b76d33-34b3-4b1a-8830-42221cc337cf",
   "metadata": {},
   "outputs": [
    {
     "name": "stdout",
     "output_type": "stream",
     "text": [
      "[0, 100, 2, 3, 4, 5, 6, 7, 8, 9]\n",
      "[1000, 100, 2, 3, 4, 5, 6, 7, 8, 9]\n"
     ]
    }
   ],
   "source": [
    "numbers_3 = numbers.copy()\n",
    "numbers_3[0] = 1000\n",
    "print(numbers)\n",
    "print(numbers_3)"
   ]
  },
  {
   "cell_type": "code",
   "execution_count": 40,
   "id": "7f1a3288-f557-4f4b-9025-6f34d01f0945",
   "metadata": {},
   "outputs": [
    {
     "data": {
      "text/plain": [
       "['List can have mixed types like', 1, 1.2, (1.2+3j), ', even another list', []]"
      ]
     },
     "execution_count": 40,
     "metadata": {},
     "output_type": "execute_result"
    }
   ],
   "source": [
    "['List can have mixed types like', 1, 1.2, 1.2+3j, ', even another list', []]"
   ]
  },
  {
   "cell_type": "markdown",
   "id": "a0354825-fa13-461e-90e1-53dd4aac3d38",
   "metadata": {},
   "source": [
    "### Tuple"
   ]
  },
  {
   "cell_type": "code",
   "execution_count": 41,
   "id": "f8c89f3e-f8d5-4879-bd04-0c87c869ff33",
   "metadata": {},
   "outputs": [
    {
     "data": {
      "text/plain": [
       "(1,)"
      ]
     },
     "execution_count": 41,
     "metadata": {},
     "output_type": "execute_result"
    }
   ],
   "source": [
    "single = (1, )\n",
    "single"
   ]
  },
  {
   "cell_type": "code",
   "execution_count": 42,
   "id": "b6f2cf10-ac3e-4586-926a-3b8728eea041",
   "metadata": {},
   "outputs": [
    {
     "data": {
      "text/plain": [
       "(1, 100)"
      ]
     },
     "execution_count": 42,
     "metadata": {},
     "output_type": "execute_result"
    }
   ],
   "source": [
    "pair = (1, 100)\n",
    "pair"
   ]
  },
  {
   "cell_type": "code",
   "execution_count": 43,
   "id": "8fc10f61-a1bc-4cf8-b6fd-1a9b3c7aab9d",
   "metadata": {},
   "outputs": [
    {
     "data": {
      "text/plain": [
       "1"
      ]
     },
     "execution_count": 43,
     "metadata": {},
     "output_type": "execute_result"
    }
   ],
   "source": [
    "pair[0]"
   ]
  },
  {
   "cell_type": "code",
   "execution_count": 44,
   "id": "a0ae600c-5a18-406f-807b-435e8974cb74",
   "metadata": {},
   "outputs": [
    {
     "ename": "TypeError",
     "evalue": "'tuple' object does not support item assignment",
     "output_type": "error",
     "traceback": [
      "\u001b[31m---------------------------------------------------------------------------\u001b[39m",
      "\u001b[31mTypeError\u001b[39m                                 Traceback (most recent call last)",
      "\u001b[36mCell\u001b[39m\u001b[36m \u001b[39m\u001b[32mIn[44]\u001b[39m\u001b[32m, line 1\u001b[39m\n\u001b[32m----> \u001b[39m\u001b[32m1\u001b[39m \u001b[43mpair\u001b[49m\u001b[43m[\u001b[49m\u001b[32;43m0\u001b[39;49m\u001b[43m]\u001b[49m = \u001b[32m100\u001b[39m  \u001b[38;5;66;03m# -> TypeError\u001b[39;00m\n",
      "\u001b[31mTypeError\u001b[39m: 'tuple' object does not support item assignment"
     ]
    }
   ],
   "source": [
    "pair[0] = 100  # -> TypeError"
   ]
  },
  {
   "cell_type": "code",
   "execution_count": 45,
   "id": "547dc76d-d49f-40a7-b9d1-87f413c9b7a7",
   "metadata": {},
   "outputs": [
    {
     "name": "stdout",
     "output_type": "stream",
     "text": [
      "1 100\n"
     ]
    }
   ],
   "source": [
    "a, b = pair\n",
    "print(a, b)"
   ]
  },
  {
   "cell_type": "code",
   "execution_count": 46,
   "id": "56f867a7-4163-4c50-a779-f1b27477e181",
   "metadata": {},
   "outputs": [
    {
     "name": "stdout",
     "output_type": "stream",
     "text": [
      "100 1\n"
     ]
    }
   ],
   "source": [
    "b, a = a, b\n",
    "print(a, b)"
   ]
  },
  {
   "cell_type": "code",
   "execution_count": 47,
   "id": "fa27b593-ba43-4179-a43e-ecf66f88f38b",
   "metadata": {},
   "outputs": [
    {
     "name": "stdout",
     "output_type": "stream",
     "text": [
      "0 [1, 1, 1] 100\n"
     ]
    }
   ],
   "source": [
    "head, *bodys, tail = (0, 1, 1, 1, 100)\n",
    "print(head, bodys, tail)"
   ]
  },
  {
   "cell_type": "markdown",
   "id": "403af752-79c6-4f12-ada4-6f492eb623e0",
   "metadata": {},
   "source": [
    "### Range"
   ]
  },
  {
   "cell_type": "code",
   "execution_count": 49,
   "id": "b0b5005e-db59-46d4-815a-00a7904a2279",
   "metadata": {},
   "outputs": [
    {
     "data": {
      "text/plain": [
       "range(0, 10)"
      ]
     },
     "execution_count": 49,
     "metadata": {},
     "output_type": "execute_result"
    }
   ],
   "source": [
    "r = range(10)\n",
    "r"
   ]
  },
  {
   "cell_type": "code",
   "execution_count": 52,
   "id": "49270ccc-1227-4b02-a3d2-d999d66f1abe",
   "metadata": {},
   "outputs": [
    {
     "data": {
      "text/plain": [
       "1"
      ]
     },
     "execution_count": 52,
     "metadata": {},
     "output_type": "execute_result"
    }
   ],
   "source": [
    "r[1]"
   ]
  },
  {
   "cell_type": "code",
   "execution_count": 53,
   "id": "bd79773e-ae41-44de-9f6c-bd14925c2f93",
   "metadata": {},
   "outputs": [
    {
     "ename": "TypeError",
     "evalue": "'tuple' object does not support item assignment",
     "output_type": "error",
     "traceback": [
      "\u001b[31m---------------------------------------------------------------------------\u001b[39m",
      "\u001b[31mTypeError\u001b[39m                                 Traceback (most recent call last)",
      "\u001b[36mCell\u001b[39m\u001b[36m \u001b[39m\u001b[32mIn[53]\u001b[39m\u001b[32m, line 1\u001b[39m\n\u001b[32m----> \u001b[39m\u001b[32m1\u001b[39m \u001b[43mpair\u001b[49m\u001b[43m[\u001b[49m\u001b[32;43m1\u001b[39;49m\u001b[43m]\u001b[49m = \u001b[32m100\u001b[39m  \u001b[38;5;66;03m# -> TypeError\u001b[39;00m\n",
      "\u001b[31mTypeError\u001b[39m: 'tuple' object does not support item assignment"
     ]
    }
   ],
   "source": [
    "pair[1] = 100  # -> TypeError"
   ]
  },
  {
   "cell_type": "code",
   "execution_count": 51,
   "id": "7e417241-f5e7-4df3-a7bd-7708ce37e1be",
   "metadata": {},
   "outputs": [
    {
     "data": {
      "text/plain": [
       "range(0, 10, 2)"
      ]
     },
     "execution_count": 51,
     "metadata": {},
     "output_type": "execute_result"
    }
   ],
   "source": [
    "evens = range(0, 10, 2)\n",
    "evens"
   ]
  },
  {
   "cell_type": "code",
   "execution_count": 54,
   "id": "e1ff01a6-6889-479c-8f21-5de0bbd54e5b",
   "metadata": {},
   "outputs": [
    {
     "data": {
      "text/plain": [
       "range(0, 10, 2)"
      ]
     },
     "execution_count": 54,
     "metadata": {},
     "output_type": "execute_result"
    }
   ],
   "source": [
    "range(0, 10, 2)"
   ]
  },
  {
   "cell_type": "code",
   "execution_count": 55,
   "id": "ff8a2809-4ad4-4bed-a7a1-8d90f5334265",
   "metadata": {},
   "outputs": [
    {
     "data": {
      "text/plain": [
       "4"
      ]
     },
     "execution_count": 55,
     "metadata": {},
     "output_type": "execute_result"
    }
   ],
   "source": [
    "evens[2]"
   ]
  },
  {
   "cell_type": "code",
   "execution_count": 56,
   "id": "2a514b3d-f81d-43f2-8e94-4dfaea003255",
   "metadata": {},
   "outputs": [
    {
     "data": {
      "text/plain": [
       "6"
      ]
     },
     "execution_count": 56,
     "metadata": {},
     "output_type": "execute_result"
    }
   ],
   "source": [
    "evens[3]"
   ]
  },
  {
   "cell_type": "markdown",
   "id": "7f41913f-33cf-41bf-825e-164feaefdc87",
   "metadata": {},
   "source": [
    "### More resources\n",
    "* https://docs.python.org/3/library/stdtypes.html#lists\n",
    "* https://docs.python.org/3/library/stdtypes.html#tuples\n",
    "* https://docs.python.org/3/library/stdtypes.html#ranges\n",
    "* https://docs.python.org/3/library/stdtypes.html#immutable-sequence-types"
   ]
  },
  {
   "cell_type": "markdown",
   "id": "cb1666f2-18ca-4f98-882f-91155ac1175c",
   "metadata": {},
   "source": [
    "## Mapping Types – dict"
   ]
  },
  {
   "cell_type": "code",
   "execution_count": 57,
   "id": "105ac971-7d52-4631-a079-40db8762b541",
   "metadata": {},
   "outputs": [
    {
     "data": {
      "text/plain": [
       "{'key1': 'value 1', 'key2': 'value 2'}"
      ]
     },
     "execution_count": 57,
     "metadata": {},
     "output_type": "execute_result"
    }
   ],
   "source": [
    "id_name_map = {\n",
    "    'key1': 'value 1',\n",
    "    'key2': 'value 2',  # the final comma is optional\n",
    "}\n",
    "id_name_map"
   ]
  },
  {
   "cell_type": "code",
   "execution_count": 58,
   "id": "f2cf1e47-4783-4282-9393-ea89c31e5c5b",
   "metadata": {},
   "outputs": [
    {
     "data": {
      "text/plain": [
       "'value 1'"
      ]
     },
     "execution_count": 58,
     "metadata": {},
     "output_type": "execute_result"
    }
   ],
   "source": [
    "id_name_map['key1']"
   ]
  },
  {
   "cell_type": "code",
   "execution_count": 59,
   "id": "f1d964ef-ca6e-441b-a29e-3793dd78fc0b",
   "metadata": {},
   "outputs": [
    {
     "data": {
      "text/plain": [
       "dict_keys(['key1', 'key2'])"
      ]
     },
     "execution_count": 59,
     "metadata": {},
     "output_type": "execute_result"
    }
   ],
   "source": [
    "id_name_map.keys()"
   ]
  },
  {
   "cell_type": "code",
   "execution_count": 60,
   "id": "38e3616a-36bc-496b-b733-87abec9059b6",
   "metadata": {},
   "outputs": [
    {
     "data": {
      "text/plain": [
       "dict_values(['value 1', 'value 2'])"
      ]
     },
     "execution_count": 60,
     "metadata": {},
     "output_type": "execute_result"
    }
   ],
   "source": [
    "id_name_map.values()"
   ]
  },
  {
   "cell_type": "code",
   "execution_count": 61,
   "id": "d5eead13-1615-41e7-a762-56edf7e380ee",
   "metadata": {},
   "outputs": [
    {
     "data": {
      "text/plain": [
       "dict_items([('key1', 'value 1'), ('key2', 'value 2')])"
      ]
     },
     "execution_count": 61,
     "metadata": {},
     "output_type": "execute_result"
    }
   ],
   "source": [
    "id_name_map.items()"
   ]
  },
  {
   "cell_type": "code",
   "execution_count": 62,
   "id": "735c80ed-d6ad-4b91-a648-d2778b9fd864",
   "metadata": {},
   "outputs": [
    {
     "ename": "KeyError",
     "evalue": "'x'",
     "output_type": "error",
     "traceback": [
      "\u001b[31m---------------------------------------------------------------------------\u001b[39m",
      "\u001b[31mKeyError\u001b[39m                                  Traceback (most recent call last)",
      "\u001b[36mCell\u001b[39m\u001b[36m \u001b[39m\u001b[32mIn[62]\u001b[39m\u001b[32m, line 1\u001b[39m\n\u001b[32m----> \u001b[39m\u001b[32m1\u001b[39m \u001b[43mid_name_map\u001b[49m\u001b[43m[\u001b[49m\u001b[33;43m'\u001b[39;49m\u001b[33;43mx\u001b[39;49m\u001b[33;43m'\u001b[39;49m\u001b[43m]\u001b[49m  \u001b[38;5;66;03m# -> KeyError\u001b[39;00m\n",
      "\u001b[31mKeyError\u001b[39m: 'x'"
     ]
    }
   ],
   "source": [
    "id_name_map['x']  # -> KeyError"
   ]
  },
  {
   "cell_type": "code",
   "execution_count": 63,
   "id": "c0771b1f-da3f-411a-a8a7-fe34a651e5b6",
   "metadata": {},
   "outputs": [
    {
     "data": {
      "text/plain": [
       "{'key1': 'value 1', 'key2': 'value 2', 'key3': 'value 3'}"
      ]
     },
     "execution_count": 63,
     "metadata": {},
     "output_type": "execute_result"
    }
   ],
   "source": [
    "id_name_map['key3'] = 'value 3'\n",
    "id_name_map"
   ]
  },
  {
   "cell_type": "code",
   "execution_count": 64,
   "id": "089035d0-cb7e-42ef-8b7d-902be3a08e9b",
   "metadata": {},
   "outputs": [
    {
     "data": {
      "text/plain": [
       "{'key1': 'value 1',\n",
       " 'key2': 'value 2',\n",
       " 'key3': 'value 3',\n",
       " 'key4': 'value 4',\n",
       " 'key5': 'value 5'}"
      ]
     },
     "execution_count": 64,
     "metadata": {},
     "output_type": "execute_result"
    }
   ],
   "source": [
    "id_name_map.update({\n",
    "    'key4': 'value 4',\n",
    "    'key5': 'value 5',\n",
    "})\n",
    "id_name_map"
   ]
  },
  {
   "cell_type": "code",
   "execution_count": 65,
   "id": "6f9410a5-423e-413c-9466-793f389e66a0",
   "metadata": {},
   "outputs": [
    {
     "name": "stdout",
     "output_type": "stream",
     "text": [
      "None\n"
     ]
    }
   ],
   "source": [
    "print(id_name_map.get('x'))"
   ]
  },
  {
   "cell_type": "code",
   "execution_count": 66,
   "id": "9012ff93-8417-46cc-8c08-46bf6c979181",
   "metadata": {},
   "outputs": [
    {
     "data": {
      "text/plain": [
       "'_default'"
      ]
     },
     "execution_count": 66,
     "metadata": {},
     "output_type": "execute_result"
    }
   ],
   "source": [
    "id_name_map.get('x', '_default')"
   ]
  },
  {
   "cell_type": "code",
   "execution_count": 67,
   "id": "26d18b1a-1b36-4ddc-8822-5f603b9e0bd6",
   "metadata": {},
   "outputs": [
    {
     "data": {
      "text/plain": [
       "{'key1': 'value 1', 'key2': 'value 2', 'key3': 'value 3', 'key4': 'value 4'}"
      ]
     },
     "execution_count": 67,
     "metadata": {},
     "output_type": "execute_result"
    }
   ],
   "source": [
    "del id_name_map['key5']\n",
    "id_name_map"
   ]
  },
  {
   "cell_type": "code",
   "execution_count": 82,
   "id": "0019ee0b-9c86-4821-ae24-5faeb69ab199",
   "metadata": {},
   "outputs": [
    {
     "data": {
      "text/plain": [
       "False"
      ]
     },
     "execution_count": 82,
     "metadata": {},
     "output_type": "execute_result"
    }
   ],
   "source": [
    "# hash search: fast!\n",
    "'unregistered_user' in id_name_map"
   ]
  },
  {
   "cell_type": "code",
   "execution_count": 83,
   "id": "58646198-4c6a-4c80-b9ae-6cf433b057db",
   "metadata": {},
   "outputs": [
    {
     "data": {
      "text/plain": [
       "'reward_1000_points'"
      ]
     },
     "execution_count": 83,
     "metadata": {},
     "output_type": "execute_result"
    }
   ],
   "source": [
    "point_reward_map = {(7, 7): 'reward_1000_points'}\n",
    "point_reward_map[(7, 7)]"
   ]
  },
  {
   "cell_type": "code",
   "execution_count": 84,
   "id": "a3cfa746-e70e-402b-bfd6-3b774939eb24",
   "metadata": {},
   "outputs": [
    {
     "data": {
      "text/plain": [
       "[{'height_cm': 152, 'weight_kg': 48, 'age': 63, 'male_yn': 1},\n",
       " {'height_cm': 157, 'weight_kg': 53, 'age': 41, 'male_yn': 1},\n",
       " {'height_cm': 140, 'weight_kg': 37, 'age': 63, 'male_yn': 0},\n",
       " {'height_cm': 137, 'weight_kg': 32, 'age': 65, 'male_yn': 0}]"
      ]
     },
     "execution_count": 84,
     "metadata": {},
     "output_type": "execute_result"
    }
   ],
   "source": [
    "health_dicts = [\n",
    "    {'height_cm': 152, 'weight_kg': 48, 'age': 63, 'male_yn': 1},\n",
    "    {'height_cm': 157, 'weight_kg': 53, 'age': 41, 'male_yn': 1},\n",
    "    {'height_cm': 140, 'weight_kg': 37, 'age': 63, 'male_yn': 0},\n",
    "    {'height_cm': 137, 'weight_kg': 32, 'age': 65, 'male_yn': 0},\n",
    "]\n",
    "health_dicts"
   ]
  },
  {
   "cell_type": "markdown",
   "id": "46c15c43-2baa-47db-ae87-c903e6fd8767",
   "metadata": {},
   "source": [
    "### More sources\n",
    "* https://docs.python.org/3/library/stdtypes.html#mapping-types-dict"
   ]
  },
  {
   "cell_type": "markdown",
   "id": "d821be44-acd2-458a-9f4e-fe216910be9e",
   "metadata": {},
   "source": [
    "## Set Types – set"
   ]
  },
  {
   "cell_type": "code",
   "execution_count": 79,
   "id": "94e4804b-833c-4347-a430-b999458190ab",
   "metadata": {},
   "outputs": [
    {
     "data": {
      "text/plain": [
       "{'192.168.0.1', '192.168.0.2', '192.168.0.3'}"
      ]
     },
     "execution_count": 79,
     "metadata": {},
     "output_type": "execute_result"
    }
   ],
   "source": [
    "banned_ips = {\n",
    "    '192.168.0.1',\n",
    "    '192.168.0.1',\n",
    "    '192.168.0.2',\n",
    "    '192.168.0.3',\n",
    "}\n",
    "\n",
    "banned_ips"
   ]
  },
  {
   "cell_type": "code",
   "execution_count": 78,
   "id": "4604994c-92f5-4bc9-a0ce-5d527d840d40",
   "metadata": {},
   "outputs": [
    {
     "data": {
      "text/plain": [
       "True"
      ]
     },
     "execution_count": 78,
     "metadata": {},
     "output_type": "execute_result"
    }
   ],
   "source": [
    "ip = '192.168.0.1'\n",
    "\n",
    "# hash search: fast!\n",
    "ip in banned_ips"
   ]
  },
  {
   "cell_type": "code",
   "execution_count": 80,
   "id": "5df76706-8875-4943-935d-10315333fbf3",
   "metadata": {},
   "outputs": [
    {
     "data": {
      "text/plain": [
       "{'a', 'e', 'l', 'p'}"
      ]
     },
     "execution_count": 80,
     "metadata": {},
     "output_type": "execute_result"
    }
   ],
   "source": [
    "set('apple')"
   ]
  },
  {
   "cell_type": "code",
   "execution_count": 81,
   "id": "1fe940c7-a3d2-419c-98d4-05270e1c4e3a",
   "metadata": {},
   "outputs": [
    {
     "data": {
      "text/plain": [
       "{'a', 'e'}"
      ]
     },
     "execution_count": 81,
     "metadata": {},
     "output_type": "execute_result"
    }
   ],
   "source": [
    "set('apple') & set('orange')"
   ]
  },
  {
   "cell_type": "markdown",
   "id": "09c0af98-f002-4066-b5ec-3430c49f8360",
   "metadata": {},
   "source": [
    "### More resources\n",
    "* https://docs.python.org/3/library/stdtypes.html#set-types-set-frozenset"
   ]
  },
  {
   "cell_type": "code",
   "execution_count": null,
   "id": "4f925d6a-ee7e-4a19-81b0-84cd7ffe77f0",
   "metadata": {},
   "outputs": [],
   "source": []
  }
 ],
 "metadata": {
  "kernelspec": {
   "display_name": "Python 3 (ipykernel)",
   "language": "python",
   "name": "python3"
  },
  "language_info": {
   "codemirror_mode": {
    "name": "ipython",
    "version": 3
   },
   "file_extension": ".py",
   "mimetype": "text/x-python",
   "name": "python",
   "nbconvert_exporter": "python",
   "pygments_lexer": "ipython3",
   "version": "3.12.10"
  }
 },
 "nbformat": 4,
 "nbformat_minor": 5
}
