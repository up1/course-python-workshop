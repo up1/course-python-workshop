{
 "cells": [
  {
   "cell_type": "markdown",
   "id": "bcaa927a-759d-400d-886f-3cc8b929b8e2",
   "metadata": {},
   "source": [
    "# Control Flow – Try-Except-Finally"
   ]
  },
  {
   "cell_type": "code",
   "execution_count": 2,
   "id": "3640b2bc-88b4-43b0-8557-b2f90b33ac08",
   "metadata": {},
   "outputs": [
    {
     "name": "stdout",
     "output_type": "stream",
     "text": [
      "Your BMI is 24.22.\n"
     ]
    }
   ],
   "source": [
    "height_cm = 170\n",
    "weight_kg = 70\n",
    "\n",
    "height_m = height_cm / 100\n",
    "\n",
    "# https://en.wikipedia.org/wiki/Body_mass_index\n",
    "bmi = weight_kg / height_m**2\n",
    "\n",
    "print(f'Your BMI is {bmi:.2f}.')"
   ]
  },
  {
   "cell_type": "code",
   "execution_count": 5,
   "id": "a1b48dc7-37e8-474a-86e8-8fb7831cc15c",
   "metadata": {},
   "outputs": [
    {
     "ename": "ZeroDivisionError",
     "evalue": "division by zero",
     "output_type": "error",
     "traceback": [
      "\u001b[31m---------------------------------------------------------------------------\u001b[39m",
      "\u001b[31mZeroDivisionError\u001b[39m                         Traceback (most recent call last)",
      "\u001b[36mCell\u001b[39m\u001b[36m \u001b[39m\u001b[32mIn[5]\u001b[39m\u001b[32m, line 1\u001b[39m\n\u001b[32m----> \u001b[39m\u001b[32m1\u001b[39m \u001b[32;43m100\u001b[39;49m\u001b[43m/\u001b[49m\u001b[32;43m0\u001b[39;49m\n",
      "\u001b[31mZeroDivisionError\u001b[39m: division by zero"
     ]
    }
   ],
   "source": [
    "100/0"
   ]
  },
  {
   "cell_type": "markdown",
   "id": "389632c0-35c8-4711-8d41-c6084a217912",
   "metadata": {},
   "source": [
    "## Better code !!"
   ]
  },
  {
   "cell_type": "code",
   "execution_count": 4,
   "id": "78745266-a83f-4fb5-898c-955571455e5f",
   "metadata": {},
   "outputs": [
    {
     "name": "stdout",
     "output_type": "stream",
     "text": [
      "Error: unsupported operand type(s) for /: 'str' and 'int'\n",
      "Thanks for using.\n"
     ]
    }
   ],
   "source": [
    "height_cm = '170'\n",
    "weight_kg = '70'\n",
    "\n",
    "try:\n",
    "    height_m = height_cm / 100\n",
    "    bmi = weight_kg / height_m**2\n",
    "except Exception as e:\n",
    "    # when an exception happens\n",
    "    print('Error:', e)\n",
    "else:\n",
    "    # when no exception happens\n",
    "    print(f'Your BMI is {bmi:.2f}.')\n",
    "finally:\n",
    "    # in any case\n",
    "    # usually for releasing non-Python resource\n",
    "    print('Thanks for using.')"
   ]
  },
  {
   "cell_type": "markdown",
   "id": "eb9e4f80-5d41-4ce6-b4f9-73e0a9c3fea3",
   "metadata": {},
   "source": [
    "## The Syntax\n",
    "* except can be many.\n",
    "* else and finally are optional."
   ]
  },
  {
   "cell_type": "markdown",
   "id": "691597cd-fcd1-43d3-9520-a1ab7e670120",
   "metadata": {},
   "source": [
    "## More resources\n",
    "* https://docs.python.org/3/library/exceptions.html#exception-hierarchy"
   ]
  },
  {
   "cell_type": "code",
   "execution_count": null,
   "id": "2fe391be-a2f8-43bb-ae4d-d156ad2322c9",
   "metadata": {},
   "outputs": [],
   "source": []
  }
 ],
 "metadata": {
  "kernelspec": {
   "display_name": "Python 3 (ipykernel)",
   "language": "python",
   "name": "python3"
  },
  "language_info": {
   "codemirror_mode": {
    "name": "ipython",
    "version": 3
   },
   "file_extension": ".py",
   "mimetype": "text/x-python",
   "name": "python",
   "nbconvert_exporter": "python",
   "pygments_lexer": "ipython3",
   "version": "3.12.10"
  }
 },
 "nbformat": 4,
 "nbformat_minor": 5
}
