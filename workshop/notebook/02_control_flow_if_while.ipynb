{
 "cells": [
  {
   "cell_type": "markdown",
   "id": "843f9b5f-17fe-4119-a4ae-a96e40b86aa5",
   "metadata": {},
   "source": [
    "# Control Flow – If and While"
   ]
  },
  {
   "cell_type": "markdown",
   "id": "6ad94e91-7367-4357-b1f8-0ea620bc3e1f",
   "metadata": {},
   "source": [
    "## If"
   ]
  },
  {
   "cell_type": "code",
   "execution_count": 1,
   "id": "8119da6e-eb9a-47a4-ba58-8ded7bd7cc8f",
   "metadata": {},
   "outputs": [
    {
     "name": "stdout",
     "output_type": "stream",
     "text": [
      "10 is even.\n"
     ]
    }
   ],
   "source": [
    "x = 10\n",
    "\n",
    "if x % 2 == 0:\n",
    "    print(x, 'is even.')\n",
    "else:\n",
    "    print(x, 'is odd.')"
   ]
  },
  {
   "cell_type": "code",
   "execution_count": 2,
   "id": "654c4255-96bc-40a7-89a3-710abf0feffe",
   "metadata": {},
   "outputs": [
    {
     "name": "stdout",
     "output_type": "stream",
     "text": [
      "very significant.\n"
     ]
    }
   ],
   "source": [
    "p = 0.005\n",
    "\n",
    "if p < 0.001:\n",
    "    print('extremely significant.')\n",
    "elif p < 0.01:\n",
    "    print('very significant.')\n",
    "elif p < 0.05:\n",
    "    print('significant.')\n",
    "else:\n",
    "    print('not significant')"
   ]
  },
  {
   "cell_type": "code",
   "execution_count": 3,
   "id": "8fb7426c-5698-46b0-bd40-9ab24374a619",
   "metadata": {},
   "outputs": [
    {
     "name": "stdout",
     "output_type": "stream",
     "text": [
      "very significant.\n"
     ]
    }
   ],
   "source": [
    "if 0.001 < p <= 0.01:\n",
    "    print('very significant.')"
   ]
  },
  {
   "cell_type": "code",
   "execution_count": 4,
   "id": "b904b043-f75f-4368-b1ce-c70735670419",
   "metadata": {},
   "outputs": [
    {
     "data": {
      "text/plain": [
       "-161"
      ]
     },
     "execution_count": 4,
     "metadata": {},
     "output_type": "execute_result"
    }
   ],
   "source": [
    "gender_key = 'female'\n",
    "\n",
    "if gender_key == 'male':\n",
    "    s = 5\n",
    "else:\n",
    "    s = -161\n",
    "    \n",
    "s"
   ]
  },
  {
   "cell_type": "code",
   "execution_count": 7,
   "id": "42865caa-cad2-4f03-9f7e-1284beb0512c",
   "metadata": {},
   "outputs": [
    {
     "data": {
      "text/plain": [
       "-161"
      ]
     },
     "execution_count": 7,
     "metadata": {},
     "output_type": "execute_result"
    }
   ],
   "source": [
    "s = 5 if gender_key == 'male' else -161\n",
    "\n",
    "s"
   ]
  },
  {
   "cell_type": "markdown",
   "id": "5b85c341-64c1-4c08-954d-d216d1b96ff9",
   "metadata": {},
   "source": [
    "## While "
   ]
  },
  {
   "cell_type": "code",
   "execution_count": 8,
   "id": "892668bb-2ef7-4329-a480-d5c0d8ee855f",
   "metadata": {},
   "outputs": [
    {
     "name": "stdout",
     "output_type": "stream",
     "text": [
      "count: 2.\n",
      "count: 1.\n",
      "count: 0.\n"
     ]
    }
   ],
   "source": [
    "count = 3\n",
    "# using the truth value testing\n",
    "while count:\n",
    "    count -= 1\n",
    "    print(f'count: {count}.')"
   ]
  },
  {
   "cell_type": "code",
   "execution_count": null,
   "id": "826ef9d6-7982-4284-9296-302bfe39b48e",
   "metadata": {},
   "outputs": [],
   "source": []
  }
 ],
 "metadata": {
  "kernelspec": {
   "display_name": "Python 3 (ipykernel)",
   "language": "python",
   "name": "python3"
  },
  "language_info": {
   "codemirror_mode": {
    "name": "ipython",
    "version": 3
   },
   "file_extension": ".py",
   "mimetype": "text/x-python",
   "name": "python",
   "nbconvert_exporter": "python",
   "pygments_lexer": "ipython3",
   "version": "3.12.10"
  }
 },
 "nbformat": 4,
 "nbformat_minor": 5
}
