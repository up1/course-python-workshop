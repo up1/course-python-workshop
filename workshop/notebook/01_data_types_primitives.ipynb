{
 "cells": [
  {
   "cell_type": "markdown",
   "id": "cb78a681-ab1d-4655-8913-be797ab17558",
   "metadata": {},
   "source": [
    "# Data Types – Primitives\n",
    "## Numeric Types – int, float, complex"
   ]
  },
  {
   "cell_type": "code",
   "execution_count": 4,
   "id": "543fa62e-690a-4241-a187-286366f25b2c",
   "metadata": {},
   "outputs": [
    {
     "data": {
      "text/plain": [
       "123"
      ]
     },
     "execution_count": 4,
     "metadata": {},
     "output_type": "execute_result"
    }
   ],
   "source": [
    "# basic precedence works\n",
    "10**2 + 2*10 + 2*(3-1)-1"
   ]
  },
  {
   "cell_type": "code",
   "execution_count": 5,
   "id": "c4286e72-d617-4e22-940a-30554dfb09d8",
   "metadata": {},
   "outputs": [
    {
     "data": {
      "text/plain": [
       "100000000000000000000000000000000000000000000000000"
      ]
     },
     "execution_count": 5,
     "metadata": {},
     "output_type": "execute_result"
    }
   ],
   "source": [
    "# ints have unlimited precision\n",
    "10**50"
   ]
  },
  {
   "cell_type": "code",
   "execution_count": 6,
   "id": "b4055ab5-5bac-46de-bd87-039654e24fb7",
   "metadata": {},
   "outputs": [
    {
     "data": {
      "text/plain": [
       "1.23"
      ]
     },
     "execution_count": 6,
     "metadata": {},
     "output_type": "execute_result"
    }
   ],
   "source": [
    "1 + .2 + 0.03"
   ]
  },
  {
   "cell_type": "code",
   "execution_count": 7,
   "id": "ff0cf21d-38c1-4d5d-a556-9c7883b73987",
   "metadata": {},
   "outputs": [
    {
     "data": {
      "text/plain": [
       "(1.2+3j)"
      ]
     },
     "execution_count": 7,
     "metadata": {},
     "output_type": "execute_result"
    }
   ],
   "source": [
    "# complex\n",
    "1.2 + 3j"
   ]
  },
  {
   "cell_type": "markdown",
   "id": "53b804db-5f91-4e63-bdd6-1baa5584ceb9",
   "metadata": {},
   "source": [
    "## More Operations\n",
    "* +, -, *, /, //, %, **, abs\n",
    "\n",
    "* More resources\n",
    "  * https://docs.python.org/3/library/stdtypes.html#numeric-types-int-float-complex"
   ]
  },
  {
   "cell_type": "markdown",
   "id": "3677c492-874a-480c-9712-c28e80b0a6f7",
   "metadata": {},
   "source": [
    "## Text Sequence Types – str"
   ]
  },
  {
   "cell_type": "code",
   "execution_count": 8,
   "id": "fb8d1cd7-5b60-49d9-820e-124dabf3bb84",
   "metadata": {},
   "outputs": [
    {
     "name": "stdout",
     "output_type": "stream",
     "text": [
      "I am a string.\n",
      "<- There is a newline char.\n"
     ]
    }
   ],
   "source": [
    "# \\n is an escape sequence\n",
    "print('I am a string.\\n<- There is a newline char.')"
   ]
  },
  {
   "cell_type": "code",
   "execution_count": 9,
   "id": "0a24ecb4-bc70-4e09-8bf8-b79b58cb5f98",
   "metadata": {},
   "outputs": [
    {
     "name": "stdout",
     "output_type": "stream",
     "text": [
      "Fun with triple single-quote pair.\n",
      "<- There is a newline char.\n"
     ]
    }
   ],
   "source": [
    "print('''Fun with triple single-quote pair.\n",
    "<- There is a newline char.''')"
   ]
  },
  {
   "cell_type": "code",
   "execution_count": 10,
   "id": "ae5171b9-937c-4ca0-8dcd-daf52d07adc0",
   "metadata": {},
   "outputs": [
    {
     "name": "stdout",
     "output_type": "stream",
     "text": [
      "Escape the newline char.\n",
      "<- There is a newline char.\n"
     ]
    }
   ],
   "source": [
    "print('''\\\n",
    "Escape the newline char.\n",
    "<- There is a newline char.''')"
   ]
  },
  {
   "cell_type": "code",
   "execution_count": 11,
   "id": "9177e939-1053-4493-b2e5-7dd169af1942",
   "metadata": {},
   "outputs": [
    {
     "name": "stdout",
     "output_type": "stream",
     "text": [
      "A double-quote pair works like a singe-quote pair.\n"
     ]
    }
   ],
   "source": [
    "print(\"A double-quote pair works like a singe-quote pair.\")"
   ]
  },
  {
   "cell_type": "code",
   "execution_count": 12,
   "id": "7024a6ee-77b9-46ce-a031-9b0e3fb0038c",
   "metadata": {},
   "outputs": [
    {
     "name": "stdout",
     "output_type": "stream",
     "text": [
      "A string's method: format.\n"
     ]
    }
   ],
   "source": [
    "# method is a function belonging to an object\n",
    "# everything in Python is an object\n",
    "print(\"A string's method: {}.\".format('format'))"
   ]
  },
  {
   "cell_type": "code",
   "execution_count": 13,
   "id": "ec6ecaa3-1218-4a31-b017-46cd9d13832b",
   "metadata": {},
   "outputs": [
    {
     "name": "stdout",
     "output_type": "stream",
     "text": [
      "I am a string.\\n<- There is a newline char.\n"
     ]
    }
   ],
   "source": [
    "# raw strings\n",
    "print(r'I am a string.\\n<- There is a newline char.')"
   ]
  },
  {
   "cell_type": "markdown",
   "id": "65afac57-4643-440a-8c68-61d51008886d",
   "metadata": {},
   "source": [
    "### More resources\n",
    "* https://docs.python.org/3/reference/lexical_analysis.html#strings\n",
    "* https://docs.python.org/3/library/stdtypes.html#text-sequence-type-str"
   ]
  },
  {
   "cell_type": "markdown",
   "id": "7bd7de8d-56a3-4dbc-89c3-7fcdac71bd4e",
   "metadata": {},
   "source": [
    "## Boolean Types – bool"
   ]
  },
  {
   "cell_type": "code",
   "execution_count": 15,
   "id": "bfc890ce-cd98-41fc-91ca-4aee490aae42",
   "metadata": {},
   "outputs": [
    {
     "data": {
      "text/plain": [
       "True"
      ]
     },
     "execution_count": 15,
     "metadata": {},
     "output_type": "execute_result"
    }
   ],
   "source": [
    "True"
   ]
  },
  {
   "cell_type": "code",
   "execution_count": 16,
   "id": "d3fc5547-95c1-4bec-ab03-04642c42e537",
   "metadata": {},
   "outputs": [
    {
     "data": {
      "text/plain": [
       "False"
      ]
     },
     "execution_count": 16,
     "metadata": {},
     "output_type": "execute_result"
    }
   ],
   "source": [
    "False"
   ]
  },
  {
   "cell_type": "code",
   "execution_count": 17,
   "id": "29512944-dc3e-49a6-b058-44a2d322e4e6",
   "metadata": {},
   "outputs": [
    {
     "data": {
      "text/plain": [
       "False"
      ]
     },
     "execution_count": 17,
     "metadata": {},
     "output_type": "execute_result"
    }
   ],
   "source": [
    "not True"
   ]
  },
  {
   "cell_type": "code",
   "execution_count": 18,
   "id": "885645dc-91cf-4215-adf5-9ce2e7cc97f8",
   "metadata": {},
   "outputs": [
    {
     "data": {
      "text/plain": [
       "True"
      ]
     },
     "execution_count": 18,
     "metadata": {},
     "output_type": "execute_result"
    }
   ],
   "source": [
    "True or False"
   ]
  },
  {
   "cell_type": "code",
   "execution_count": 19,
   "id": "b2894288-a1b4-4a39-b3cd-e73787e6b3fb",
   "metadata": {},
   "outputs": [
    {
     "data": {
      "text/plain": [
       "False"
      ]
     },
     "execution_count": 19,
     "metadata": {},
     "output_type": "execute_result"
    }
   ],
   "source": [
    "True and False"
   ]
  },
  {
   "cell_type": "code",
   "execution_count": 20,
   "id": "1c4d39c4-9844-4c0b-b031-88812a13fdf5",
   "metadata": {},
   "outputs": [
    {
     "data": {
      "text/plain": [
       "True"
      ]
     },
     "execution_count": 20,
     "metadata": {},
     "output_type": "execute_result"
    }
   ],
   "source": [
    "100 > 10"
   ]
  },
  {
   "cell_type": "code",
   "execution_count": 21,
   "id": "588c976b-ba9b-4b18-8522-ff818ccd346a",
   "metadata": {},
   "outputs": [
    {
     "data": {
      "text/plain": [
       "False"
      ]
     },
     "execution_count": 21,
     "metadata": {},
     "output_type": "execute_result"
    }
   ],
   "source": [
    "100 <= 10"
   ]
  },
  {
   "cell_type": "code",
   "execution_count": 22,
   "id": "29fdaff7-cd15-471d-9868-9a47d2fda82f",
   "metadata": {},
   "outputs": [
    {
     "data": {
      "text/plain": [
       "True"
      ]
     },
     "execution_count": 22,
     "metadata": {},
     "output_type": "execute_result"
    }
   ],
   "source": [
    "100 == 100"
   ]
  },
  {
   "cell_type": "code",
   "execution_count": 23,
   "id": "df5b879d-7386-45a1-87d4-4a70e09003e6",
   "metadata": {},
   "outputs": [
    {
     "data": {
      "text/plain": [
       "False"
      ]
     },
     "execution_count": 23,
     "metadata": {},
     "output_type": "execute_result"
    }
   ],
   "source": [
    "'Mosky' == 'mosky'"
   ]
  },
  {
   "cell_type": "code",
   "execution_count": 24,
   "id": "1fec0885-9400-498a-8949-5082be303781",
   "metadata": {},
   "outputs": [
    {
     "data": {
      "text/plain": [
       "True"
      ]
     },
     "execution_count": 24,
     "metadata": {},
     "output_type": "execute_result"
    }
   ],
   "source": [
    "'Mosky' != 'mosky'"
   ]
  },
  {
   "cell_type": "code",
   "execution_count": 25,
   "id": "56f57eef-cf6f-4a15-ba23-3e52c6478af9",
   "metadata": {},
   "outputs": [
    {
     "data": {
      "text/plain": [
       "True"
      ]
     },
     "execution_count": 25,
     "metadata": {},
     "output_type": "execute_result"
    }
   ],
   "source": [
    "'mo' in 'mosky'"
   ]
  },
  {
   "cell_type": "code",
   "execution_count": 26,
   "id": "dc1a6641-e1c9-44c0-9138-cb87c5032ef7",
   "metadata": {},
   "outputs": [
    {
     "data": {
      "text/plain": [
       "False"
      ]
     },
     "execution_count": 26,
     "metadata": {},
     "output_type": "execute_result"
    }
   ],
   "source": [
    "None == 0"
   ]
  },
  {
   "cell_type": "code",
   "execution_count": 27,
   "id": "66e2827a-c4ad-4aea-b570-fd52343b3803",
   "metadata": {},
   "outputs": [
    {
     "data": {
      "text/plain": [
       "False"
      ]
     },
     "execution_count": 27,
     "metadata": {},
     "output_type": "execute_result"
    }
   ],
   "source": [
    "None == True"
   ]
  },
  {
   "cell_type": "code",
   "execution_count": 28,
   "id": "b72b5cac-23d0-458d-a5d8-86c04ad96647",
   "metadata": {},
   "outputs": [
    {
     "data": {
      "text/plain": [
       "False"
      ]
     },
     "execution_count": 28,
     "metadata": {},
     "output_type": "execute_result"
    }
   ],
   "source": [
    "None == False"
   ]
  },
  {
   "cell_type": "code",
   "execution_count": 29,
   "id": "b012b887-c2be-4f7e-84a5-ca8706e1cf28",
   "metadata": {},
   "outputs": [
    {
     "data": {
      "text/plain": [
       "True"
      ]
     },
     "execution_count": 29,
     "metadata": {},
     "output_type": "execute_result"
    }
   ],
   "source": [
    "# None is equal to nothing but itself\n",
    "None == None"
   ]
  },
  {
   "cell_type": "markdown",
   "id": "7bc95134-dcd2-4b4b-a1f9-7c7c9ce4b0e7",
   "metadata": {},
   "source": [
    "## Variables"
   ]
  },
  {
   "cell_type": "code",
   "execution_count": 32,
   "id": "c3eb2add-03dd-437f-9b70-4ae553bad75c",
   "metadata": {},
   "outputs": [
    {
     "data": {
      "text/plain": [
       "0"
      ]
     },
     "execution_count": 32,
     "metadata": {},
     "output_type": "execute_result"
    }
   ],
   "source": [
    "count = 0\n",
    "count"
   ]
  },
  {
   "cell_type": "code",
   "execution_count": 33,
   "id": "ca24196a-1de1-45fb-b655-0ae8ca7644d4",
   "metadata": {},
   "outputs": [
    {
     "data": {
      "text/plain": [
       "1"
      ]
     },
     "execution_count": 33,
     "metadata": {},
     "output_type": "execute_result"
    }
   ],
   "source": [
    "count = count + 1\n",
    "count"
   ]
  },
  {
   "cell_type": "code",
   "execution_count": 34,
   "id": "045c7b05-f10f-41e2-9585-3f0aa85c39c7",
   "metadata": {},
   "outputs": [
    {
     "data": {
      "text/plain": [
       "2"
      ]
     },
     "execution_count": 34,
     "metadata": {},
     "output_type": "execute_result"
    }
   ],
   "source": [
    "count += 1\n",
    "count"
   ]
  },
  {
   "cell_type": "code",
   "execution_count": 35,
   "id": "c6497476-fc5b-4c28-8a88-11503a107692",
   "metadata": {},
   "outputs": [
    {
     "name": "stdout",
     "output_type": "stream",
     "text": [
      "The formatted string literals, count -> 2.\n"
     ]
    }
   ],
   "source": [
    "print(f'The formatted string literals, count -> {count}.')"
   ]
  },
  {
   "cell_type": "code",
   "execution_count": 37,
   "id": "4bb3de4c-2638-4daf-a1e9-5633e4ede926",
   "metadata": {},
   "outputs": [
    {
     "name": "stdout",
     "output_type": "stream",
     "text": [
      "Your BMI is 24.22.\n"
     ]
    }
   ],
   "source": [
    "height_cm = 170\n",
    "weight_kg = 70\n",
    "\n",
    "height_m = height_cm / 100\n",
    "\n",
    "# https://en.wikipedia.org/wiki/Body_mass_index\n",
    "bmi = weight_kg / height_m**2\n",
    "\n",
    "print(f'Your BMI is {bmi:.2f}.')"
   ]
  },
  {
   "cell_type": "markdown",
   "id": "7f353ffc-aab5-4561-8b0f-a0f0d9484d65",
   "metadata": {},
   "source": [
    "### More resources\n",
    "* https://docs.python.org/3/reference/lexical_analysis.html#delimiters\n",
    "* https://docs.python.org/3/library/string.html#formatstrings"
   ]
  },
  {
   "cell_type": "code",
   "execution_count": null,
   "id": "ccd5681c-d9fc-4e9a-b2c2-c2c1a10ec88d",
   "metadata": {},
   "outputs": [],
   "source": []
  }
 ],
 "metadata": {
  "kernelspec": {
   "display_name": "Python 3 (ipykernel)",
   "language": "python",
   "name": "python3"
  },
  "language_info": {
   "codemirror_mode": {
    "name": "ipython",
    "version": 3
   },
   "file_extension": ".py",
   "mimetype": "text/x-python",
   "name": "python",
   "nbconvert_exporter": "python",
   "pygments_lexer": "ipython3",
   "version": "3.12.10"
  }
 },
 "nbformat": 4,
 "nbformat_minor": 5
}
