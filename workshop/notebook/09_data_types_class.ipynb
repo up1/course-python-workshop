{
 "cells": [
  {
   "cell_type": "markdown",
   "id": "2fa7f0e5-bef6-49cf-ac3f-3d2c60803701",
   "metadata": {},
   "source": [
    "# Data Types – Class\n",
    "* https://docs.python.org/3/tutorial/classes.html"
   ]
  },
  {
   "cell_type": "markdown",
   "id": "f26711e4-587d-48b9-98b7-d74c276eb101",
   "metadata": {},
   "source": [
    "## Methods and Instance variables"
   ]
  },
  {
   "cell_type": "code",
   "execution_count": 22,
   "id": "c32123f0-9b22-44a5-94d4-e38ebf86e333",
   "metadata": {},
   "outputs": [],
   "source": [
    "class Google:\n",
    "\n",
    "    def __init__(self):\n",
    "        print('Init...')\n",
    "        self.username = ''\n",
    "        self.password = ''\n",
    "\n",
    "    def set_user_info(self, username, password):\n",
    "        print('Set user info...')\n",
    "        self.username = username\n",
    "        self.password = password\n",
    "        \n",
    "    def log_in(self):\n",
    "        print('Logging in Google as', self.username, '...')\n",
    "\n",
    "    def query_mail(self):\n",
    "        print('Query Gmail...')\n",
    "\n",
    "    def query_calendar(self):\n",
    "        print('Query Google Calendar...')"
   ]
  },
  {
   "cell_type": "code",
   "execution_count": 23,
   "id": "0ae25392-891b-46ce-a3c6-1ca13d9d2b53",
   "metadata": {},
   "outputs": [
    {
     "name": "stdout",
     "output_type": "stream",
     "text": [
      "Init...\n",
      "Set user info...\n",
      "Logging in Google as somkiat ...\n",
      "Query Gmail...\n",
      "\n",
      "Init...\n",
      "Set user info...\n",
      "Logging in Google as user2 ...\n",
      "Query Gmail...\n",
      "\n",
      "somkiat\n",
      "user2\n"
     ]
    }
   ],
   "source": [
    "somkiat = Google()\n",
    "somkiat.set_user_info('somkiat', 'mypassword')\n",
    "somkiat.log_in()\n",
    "somkiat.query_mail()\n",
    "print()\n",
    "\n",
    "user2 = Google()\n",
    "user2.set_user_info('user2', 'andypassword')\n",
    "user2.log_in()\n",
    "user2.query_mail()\n",
    "print()\n",
    "\n",
    "print(somkiat.username)\n",
    "print(user2.username)"
   ]
  },
  {
   "cell_type": "markdown",
   "id": "8b6801d5-b513-419c-8913-e2d006897098",
   "metadata": {},
   "source": [
    "## Class method and Class variables"
   ]
  },
  {
   "cell_type": "code",
   "execution_count": 24,
   "id": "d4b9f427-7752-42a7-8872-cf4469864e00",
   "metadata": {},
   "outputs": [],
   "source": [
    "class Google:\n",
    "\n",
    "    mail_url = 'http://mail.google.com'\n",
    "    calendar_url = 'http://calendar.google.com'\n",
    "    \n",
    "    @classmethod\n",
    "    def get_config_dict(cls):\n",
    "        return {\n",
    "            'mail_url': cls.mail_url,\n",
    "            'calendar_url': cls.calendar_url,\n",
    "        }\n",
    "        \n",
    "    def __init__(self):\n",
    "        print('Init...')\n",
    "        self.username = ''\n",
    "        self.password = ''\n",
    "\n",
    "    def set_user_info(self, username, password):\n",
    "        print('Set user info...')\n",
    "        self.username = username\n",
    "        self.password = password\n",
    "        \n",
    "    def log_in(self):\n",
    "        print('Logging in Google as', self.username, '...')\n",
    "\n",
    "    def query_mail(self):\n",
    "        print('Query Gmail from', self.mail_url, '...')\n",
    "\n",
    "    def query_calendar(self):\n",
    "        print('Query Google Calendar from,', self.calendar_url, '...')"
   ]
  },
  {
   "cell_type": "code",
   "execution_count": 25,
   "id": "26ea610e-1dd4-4355-9326-ad2c19c79361",
   "metadata": {},
   "outputs": [
    {
     "name": "stdout",
     "output_type": "stream",
     "text": [
      "http://mail.google.com\n",
      "http://calendar.google.com\n",
      "\n",
      "{'mail_url': 'http://mail.google.com', 'calendar_url': 'http://calendar.google.com'}\n",
      "\n",
      "Init...\n",
      "Set user info...\n",
      "Logging in Google as somkiat ...\n",
      "Query Gmail from http://mail.google.com ...\n",
      "\n",
      "Init...\n",
      "Set user info...\n",
      "Logging in Google as user2 ...\n",
      "Query Gmail from http://mail.google.com ...\n",
      "\n",
      "somkiat\n",
      "user2\n",
      "http://mail.google.com\n",
      "http://calendar.google.com\n"
     ]
    }
   ],
   "source": [
    "print(Google.mail_url)\n",
    "print(Google.calendar_url)\n",
    "print()\n",
    "\n",
    "print(Google.get_config_dict())\n",
    "print()\n",
    "\n",
    "somkiat = Google()\n",
    "somkiat.set_user_info('somkiat', 'mypassword')\n",
    "somkiat.log_in()\n",
    "somkiat.query_mail()\n",
    "print()\n",
    "\n",
    "user2 = Google()\n",
    "user2.set_user_info('user2', 'user2password')\n",
    "user2.log_in()\n",
    "user2.query_mail()\n",
    "print()\n",
    "\n",
    "print(somkiat.username)\n",
    "print(user2.username)\n",
    "print(somkiat.mail_url)\n",
    "print(user2.calendar_url)"
   ]
  },
  {
   "cell_type": "markdown",
   "id": "2e2a2eca-d7d2-4bc0-bd43-88818c65d8e9",
   "metadata": {},
   "source": [
    "## Inheritance"
   ]
  },
  {
   "cell_type": "code",
   "execution_count": 26,
   "id": "133ce756-ebbd-4579-b044-a022df7f5d47",
   "metadata": {},
   "outputs": [],
   "source": [
    "class Site:\n",
    "\n",
    "    def __init__(self):\n",
    "        print('Init...')\n",
    "        self.username = ''\n",
    "        self.password = ''\n",
    "\n",
    "    def set_user_info(self, username, password):\n",
    "        print('Set user info...')\n",
    "        self.username = username\n",
    "        self.password = password\n",
    "        \n",
    "    def log_in(self):\n",
    "        raise NotImplementedError\n",
    "        \n",
    "    def query_mail(self):\n",
    "        raise NotImplementedError\n",
    "        \n",
    "    def query_calendar(self):\n",
    "        raise NotImplementedError\n",
    "\n",
    "\n",
    "class Google(Site):\n",
    "\n",
    "    def log_in(self):\n",
    "        print('Logging in Google as', self.username, '...')\n",
    "\n",
    "    def query_mail(self):\n",
    "        print('Query Gmail...')\n",
    "\n",
    "    def query_calendar(self):\n",
    "        print('Query Google Calendar...')\n",
    "\n",
    "\n",
    "class SomkiatCC(Site):\n",
    "\n",
    "    somkiat_mail_url = 'http://www.somkiat.cc'\n",
    "\n",
    "    def log_in(self):\n",
    "        print('Logging in Somkiat.cc as', self.username, '...')\n",
    "    \n",
    "    def query_mail(self):\n",
    "        print('Query Somkist.cc Mail...')"
   ]
  },
  {
   "cell_type": "code",
   "execution_count": 27,
   "id": "9948b7dc-1c2b-4520-9e42-6dda42c419c8",
   "metadata": {},
   "outputs": [
    {
     "name": "stdout",
     "output_type": "stream",
     "text": [
      "Init...\n",
      "Set user info...\n",
      "Logging in Somkiat.cc as somkiat ...\n",
      "Query Somkist.cc Mail...\n",
      "\n",
      "Init...\n",
      "Set user info...\n",
      "Logging in Google as google ...\n",
      "Query Gmail...\n",
      "\n"
     ]
    }
   ],
   "source": [
    "somkiat = SomkiatCC()\n",
    "somkiat.set_user_info('somkiat', 'mypassword')\n",
    "somkiat.log_in()\n",
    "somkiat.query_mail()\n",
    "print()\n",
    "\n",
    "google = Google()\n",
    "google.set_user_info('google', 'googlepassword')\n",
    "google.log_in()\n",
    "google.query_mail()\n",
    "print()"
   ]
  },
  {
   "cell_type": "code",
   "execution_count": null,
   "id": "0fbcb20b-0e59-49dd-8a78-fa8649b1a572",
   "metadata": {},
   "outputs": [],
   "source": []
  }
 ],
 "metadata": {
  "kernelspec": {
   "display_name": "Python 3 (ipykernel)",
   "language": "python",
   "name": "python3"
  },
  "language_info": {
   "codemirror_mode": {
    "name": "ipython",
    "version": 3
   },
   "file_extension": ".py",
   "mimetype": "text/x-python",
   "name": "python",
   "nbconvert_exporter": "python",
   "pygments_lexer": "ipython3",
   "version": "3.12.10"
  }
 },
 "nbformat": 4,
 "nbformat_minor": 5
}
