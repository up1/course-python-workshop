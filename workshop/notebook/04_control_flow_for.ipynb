{
 "cells": [
  {
   "cell_type": "markdown",
   "id": "8b6e223c-0007-48ff-9604-fec11c87d0b6",
   "metadata": {},
   "source": [
    "# Control Flow – For"
   ]
  },
  {
   "cell_type": "code",
   "execution_count": 3,
   "id": "90d0c05d-12f6-48bd-9c7c-5d5b8c96ccef",
   "metadata": {},
   "outputs": [
    {
     "name": "stdout",
     "output_type": "stream",
     "text": [
      "0 1 2 3 4 5 6 7 8 9 \n"
     ]
    }
   ],
   "source": [
    "for i in range(10):\n",
    "    print(i, end=' ')\n",
    "    \n",
    "print()"
   ]
  },
  {
   "cell_type": "code",
   "execution_count": 4,
   "id": "e36c05e1-892e-491f-88d5-04e4a1acfd16",
   "metadata": {},
   "outputs": [
    {
     "name": "stdout",
     "output_type": "stream",
     "text": [
      "         \n",
      "        *\n",
      "       ***\n",
      "      *****\n",
      "     *******\n",
      "    *********\n",
      "   ***********\n",
      "  *************\n",
      " ***************\n",
      "*****************\n"
     ]
    }
   ],
   "source": [
    "n = 10\n",
    "for i in range(n):\n",
    "    print(' '*(n-i-1) + '*'*(i*2-1))"
   ]
  },
  {
   "cell_type": "code",
   "execution_count": 5,
   "id": "26cc4c67-4c50-40da-9c5f-867009ee8c27",
   "metadata": {},
   "outputs": [
    {
     "name": "stdout",
     "output_type": "stream",
     "text": [
      "key1\n",
      "key2\n"
     ]
    }
   ],
   "source": [
    "id_name_map = {\n",
    "    'key1': 'value 1',\n",
    "    'key2': 'value 2'\n",
    "}\n",
    "\n",
    "# for ... in <any iterable object>:\n",
    "# iterable objects: str, list, tuple, range, set, dict, etc.\n",
    "for id_ in id_name_map:\n",
    "    print(id_)"
   ]
  },
  {
   "cell_type": "code",
   "execution_count": 6,
   "id": "abb9b416-6e4f-4990-bb17-6cf80ad1b708",
   "metadata": {},
   "outputs": [
    {
     "name": "stdout",
     "output_type": "stream",
     "text": [
      "key1: value 1\n",
      "key2: value 2\n"
     ]
    }
   ],
   "source": [
    "for id_, name in id_name_map.items():\n",
    "    print(f'{id_}: {name}')"
   ]
  },
  {
   "cell_type": "code",
   "execution_count": 7,
   "id": "bfba1339-b17c-495e-ab58-48d50c8de21d",
   "metadata": {},
   "outputs": [
    {
     "name": "stdout",
     "output_type": "stream",
     "text": [
      "0 a\n",
      "1 b\n",
      "2 c\n"
     ]
    }
   ],
   "source": [
    "# https://docs.python.org/3/library/functions.html#zip\n",
    "for i, c in zip(range(3), 'abc'):\n",
    "    print(i, c)"
   ]
  },
  {
   "cell_type": "code",
   "execution_count": 8,
   "id": "7f9f93ea-6d8c-4805-b9b6-221c1c1f7f30",
   "metadata": {},
   "outputs": [
    {
     "name": "stdout",
     "output_type": "stream",
     "text": [
      "0 a\n",
      "1 b\n",
      "2 c\n"
     ]
    }
   ],
   "source": [
    "# https://docs.python.org/3/library/functions.html#enumerate\n",
    "for i, c in enumerate('abc'):\n",
    "    print(i, c)"
   ]
  },
  {
   "cell_type": "code",
   "execution_count": 9,
   "id": "8336d2dc-7ec4-4195-bfa8-458c6c85be56",
   "metadata": {},
   "outputs": [
    {
     "name": "stdout",
     "output_type": "stream",
     "text": [
      "10 a\n",
      "11 b\n",
      "12 c\n"
     ]
    }
   ],
   "source": [
    "for i, c in enumerate('abc', start=10):\n",
    "    print(i, c)"
   ]
  },
  {
   "cell_type": "code",
   "execution_count": 10,
   "id": "d70cfa04-0a43-4dc3-b4ee-25a03583ecd3",
   "metadata": {},
   "outputs": [
    {
     "name": "stdout",
     "output_type": "stream",
     "text": [
      "2 is a prime.\n",
      "3 is a prime.\n",
      "5 is a prime.\n",
      "7 is a prime.\n"
     ]
    }
   ],
   "source": [
    "# https://en.wikipedia.org/wiki/Prime_number\n",
    "for n in range(2, 10):\n",
    "    for i in range(2, n):\n",
    "        if n % i == 0:\n",
    "            # break the whole loop\n",
    "            break\n",
    "    else:  # loop ... else!\n",
    "        print(n, 'is a prime.')"
   ]
  },
  {
   "cell_type": "code",
   "execution_count": 13,
   "id": "9cf94d37-3f49-49ed-8e3c-16da72927f81",
   "metadata": {},
   "outputs": [
    {
     "name": "stdout",
     "output_type": "stream",
     "text": [
      "Retry task for task 1.\n"
     ]
    }
   ],
   "source": [
    "id_task_succeed_map = {\n",
    "    'task 1': False,\n",
    "    'task 2': True,\n",
    "    'task 3': True,\n",
    "}\n",
    "\n",
    "for id_, task_succeed in id_task_succeed_map.items():\n",
    "    \n",
    "    if task_succeed:\n",
    "        # continue to the next iteration\n",
    "        continue\n",
    "        \n",
    "    print(f'Retry task for {id_}.')"
   ]
  },
  {
   "cell_type": "code",
   "execution_count": 14,
   "id": "1d3eac6e-86c4-4b51-8c09-207fcda6ca56",
   "metadata": {},
   "outputs": [],
   "source": [
    "# pass DOES nothing\n",
    "for i in range(10):\n",
    "    pass"
   ]
  },
  {
   "cell_type": "code",
   "execution_count": 15,
   "id": "7ca5db71-5851-43c0-b09c-a6775fb524ee",
   "metadata": {},
   "outputs": [
    {
     "name": "stdout",
     "output_type": "stream",
     "text": [
      "Average height (cm): 146.50\n"
     ]
    }
   ],
   "source": [
    "health_dicts = [\n",
    "    {'height_cm': 152, 'weight_kg': 48, 'age': 63, 'male_yn': 1},\n",
    "    {'height_cm': 157, 'weight_kg': 53, 'age': 41, 'male_yn': 1},\n",
    "    {'height_cm': 140, 'weight_kg': 37, 'age': 63, 'male_yn': 0},\n",
    "    {'height_cm': 137, 'weight_kg': 32, 'age': 65, 'male_yn': 0},\n",
    "]\n",
    "\n",
    "# s: sum of heights in cm\n",
    "s = 0\n",
    "for d in health_dicts:\n",
    "    s += d['height_cm']\n",
    "    \n",
    "# a: average height in cm\n",
    "a = s/len(health_dicts)\n",
    "    \n",
    "print(f'Average height (cm): {a:.2f}')"
   ]
  },
  {
   "cell_type": "markdown",
   "id": "f7197328-246c-4ede-87e2-73bb79dac9d1",
   "metadata": {},
   "source": [
    "## Workshop :: Multiplication table"
   ]
  },
  {
   "cell_type": "code",
   "execution_count": 17,
   "id": "d68145fd-9284-433d-a523-03d9577462bf",
   "metadata": {},
   "outputs": [
    {
     "name": "stdout",
     "output_type": "stream",
     "text": [
      "  1   2   3   4   5   6   7   8   9  10\n",
      "  2   4   6   8  10  12  14  16  18  20\n",
      "  3   6   9  12  15  18  21  24  27  30\n",
      "  4   8  12  16  20  24  28  32  36  40\n",
      "  5  10  15  20  25  30  35  40  45  50\n",
      "  6  12  18  24  30  36  42  48  54  60\n",
      "  7  14  21  28  35  42  49  56  63  70\n",
      "  8  16  24  32  40  48  56  64  72  80\n",
      "  9  18  27  36  45  54  63  72  81  90\n",
      " 10  20  30  40  50  60  70  80  90 100\n"
     ]
    }
   ],
   "source": [
    "def main():\n",
    "    table = []\n",
    "    # table = [[i * j for j in range(1, 11)] for i in range(1, 11)]\n",
    "    for i in range(1, 11):\n",
    "        row = []\n",
    "        for j in range(1, 11):\n",
    "            row.append(i * j)\n",
    "        table.append(row)\n",
    "\n",
    "    for row in table:\n",
    "        print(\" \".join(f\"{number:3}\" for number in row))\n",
    "\n",
    "\n",
    "if __name__ == \"__main__\":\n",
    "    main()"
   ]
  },
  {
   "cell_type": "code",
   "execution_count": null,
   "id": "8301ceaf-936e-4871-bec3-daa417e564da",
   "metadata": {},
   "outputs": [],
   "source": []
  }
 ],
 "metadata": {
  "kernelspec": {
   "display_name": "Python 3 (ipykernel)",
   "language": "python",
   "name": "python3"
  },
  "language_info": {
   "codemirror_mode": {
    "name": "ipython",
    "version": 3
   },
   "file_extension": ".py",
   "mimetype": "text/x-python",
   "name": "python",
   "nbconvert_exporter": "python",
   "pygments_lexer": "ipython3",
   "version": "3.12.10"
  }
 },
 "nbformat": 4,
 "nbformat_minor": 5
}
