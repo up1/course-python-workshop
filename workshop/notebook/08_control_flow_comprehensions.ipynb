{
 "cells": [
  {
   "cell_type": "markdown",
   "id": "c471e9f0-43a4-4b63-a474-cc4b7d6fccc4",
   "metadata": {},
   "source": [
    "# Control Flow – Comprehensions"
   ]
  },
  {
   "cell_type": "markdown",
   "id": "d491e957-8273-4dc6-bfe5-58626796e5ed",
   "metadata": {},
   "source": [
    "## List Comprehensions"
   ]
  },
  {
   "cell_type": "code",
   "execution_count": 1,
   "id": "18680bd5-ec58-493e-8820-2b2b1024fc93",
   "metadata": {},
   "outputs": [
    {
     "data": {
      "text/plain": [
       "[0, 1, 2, 3, 4, 5, 6, 7, 8, 9]"
      ]
     },
     "execution_count": 1,
     "metadata": {},
     "output_type": "execute_result"
    }
   ],
   "source": [
    "[i for i in range(10)]"
   ]
  },
  {
   "cell_type": "code",
   "execution_count": 2,
   "id": "b4d9d2d8-d014-4509-89bc-fff9de290478",
   "metadata": {},
   "outputs": [
    {
     "data": {
      "text/plain": [
       "[0, 2, 4, 6, 8]"
      ]
     },
     "execution_count": 2,
     "metadata": {},
     "output_type": "execute_result"
    }
   ],
   "source": [
    "[i for i in range(10) if i % 2 == 0]"
   ]
  },
  {
   "cell_type": "code",
   "execution_count": 3,
   "id": "851318a7-2351-43e8-be4e-732ee3147364",
   "metadata": {},
   "outputs": [
    {
     "data": {
      "text/plain": [
       "[(0, 0), (0, 1), (0, 2), (1, 0), (1, 1), (1, 2)]"
      ]
     },
     "execution_count": 3,
     "metadata": {},
     "output_type": "execute_result"
    }
   ],
   "source": [
    "[(i, j) for i in range(2) for j in range(3)]"
   ]
  },
  {
   "cell_type": "code",
   "execution_count": 6,
   "id": "3c1f9de4-f2b0-42bf-bb11-08f8bcc157d7",
   "metadata": {},
   "outputs": [
    {
     "name": "stdout",
     "output_type": "stream",
     "text": [
      "(0, 0) (0, 1) (0, 2) (1, 0) (1, 1) (1, 2) "
     ]
    },
    {
     "data": {
      "text/plain": [
       "[(0, 0), (0, 1), (0, 2), (1, 0), (1, 1), (1, 2)]"
      ]
     },
     "execution_count": 6,
     "metadata": {},
     "output_type": "execute_result"
    }
   ],
   "source": [
    "## Like !!\n",
    "result = []\n",
    "for i in range(2):\n",
    "    for j in range(3):\n",
    "        print((i, j), end=' ')\n",
    "        result.append((i, j))\n",
    "        \n",
    "result"
   ]
  },
  {
   "cell_type": "markdown",
   "id": "aef050fa-d513-4d6a-bd34-747a539edab8",
   "metadata": {},
   "source": [
    "## Set Comprehensions"
   ]
  },
  {
   "cell_type": "code",
   "execution_count": 8,
   "id": "e9534ba3-a960-4dc8-94ba-36901ee76ba5",
   "metadata": {},
   "outputs": [
    {
     "data": {
      "text/plain": [
       "{0, 1, 2, 3, 4, 5, 6, 7, 8, 9}"
      ]
     },
     "execution_count": 8,
     "metadata": {},
     "output_type": "execute_result"
    }
   ],
   "source": [
    "{i for i in range(10)}"
   ]
  },
  {
   "cell_type": "code",
   "execution_count": 9,
   "id": "ced4d237-559f-4740-91f0-cb7ecf13fb19",
   "metadata": {},
   "outputs": [
    {
     "data": {
      "text/plain": [
       "{0, 2, 4, 6, 8}"
      ]
     },
     "execution_count": 9,
     "metadata": {},
     "output_type": "execute_result"
    }
   ],
   "source": [
    "{i for i in range(10) if i % 2 == 0}"
   ]
  },
  {
   "cell_type": "code",
   "execution_count": 10,
   "id": "f1a68c53-abca-4383-9fda-aa00435e4bad",
   "metadata": {},
   "outputs": [
    {
     "data": {
      "text/plain": [
       "{(0, 0), (0, 1), (0, 2), (1, 0), (1, 1), (1, 2)}"
      ]
     },
     "execution_count": 10,
     "metadata": {},
     "output_type": "execute_result"
    }
   ],
   "source": [
    "{(i, j) for i in range(2) for j in range(3)}"
   ]
  },
  {
   "cell_type": "markdown",
   "id": "e728f399-26fa-466e-9577-71863c921875",
   "metadata": {},
   "source": [
    "## Dict Comprehensions"
   ]
  },
  {
   "cell_type": "code",
   "execution_count": 11,
   "id": "8f13b6a4-4f01-46a2-bdf4-58fdb2997292",
   "metadata": {},
   "outputs": [
    {
     "data": {
      "text/plain": [
       "{0: 'A', 1: 'B', 2: 'C'}"
      ]
     },
     "execution_count": 11,
     "metadata": {},
     "output_type": "execute_result"
    }
   ],
   "source": [
    "{i: chr(65+i) for i in range(3)}"
   ]
  },
  {
   "cell_type": "code",
   "execution_count": 12,
   "id": "0da8c6ed-a656-4a9a-8835-b694d0a7e94f",
   "metadata": {},
   "outputs": [
    {
     "data": {
      "text/plain": [
       "{0: 'A', 2: 'C'}"
      ]
     },
     "execution_count": 12,
     "metadata": {},
     "output_type": "execute_result"
    }
   ],
   "source": [
    "{i: chr(65+i) for i in range(3) if i % 2 == 0}"
   ]
  },
  {
   "cell_type": "code",
   "execution_count": 13,
   "id": "ea5126a4-c07e-4a0b-8c58-ae8e97aa87c6",
   "metadata": {},
   "outputs": [
    {
     "data": {
      "text/plain": [
       "{(0, 0): ('A', 'A'),\n",
       " (0, 1): ('A', 'B'),\n",
       " (0, 2): ('A', 'C'),\n",
       " (1, 0): ('B', 'A'),\n",
       " (1, 1): ('B', 'B'),\n",
       " (1, 2): ('B', 'C')}"
      ]
     },
     "execution_count": 13,
     "metadata": {},
     "output_type": "execute_result"
    }
   ],
   "source": [
    "{(i, j): (chr(65+i), chr(65+j)) for i in range(2) for j in range(3)}"
   ]
  },
  {
   "cell_type": "markdown",
   "id": "efe7f1f5-c0c5-4f0d-b8c9-594adce69cc4",
   "metadata": {},
   "source": [
    "## Generator Expression\n",
    "* https://docs.python.org/3/reference/expressions.html#generator-expressions\n",
    "\n",
    "A generator expression yields a new generator object. Its syntax is the same as for comprehensions, except that it is enclosed in parentheses instead of brackets or curly braces."
   ]
  },
  {
   "cell_type": "code",
   "execution_count": 14,
   "id": "95a5fdb8-5b6a-446c-8a95-03920bf8caec",
   "metadata": {},
   "outputs": [
    {
     "data": {
      "text/plain": [
       "<generator object <genexpr> at 0x110b790e0>"
      ]
     },
     "execution_count": 14,
     "metadata": {},
     "output_type": "execute_result"
    }
   ],
   "source": [
    "g = ((i, chr(65+i)) for i in range(3))\n",
    "g"
   ]
  },
  {
   "cell_type": "code",
   "execution_count": 15,
   "id": "aecc2d2a-b6a6-40e5-88ac-e61518162aca",
   "metadata": {},
   "outputs": [
    {
     "name": "stdout",
     "output_type": "stream",
     "text": [
      "(0, 'A')\n",
      "(1, 'B')\n",
      "(2, 'C')\n"
     ]
    }
   ],
   "source": [
    "for i in g:\n",
    "    print(i)"
   ]
  },
  {
   "cell_type": "markdown",
   "id": "7a7315ac-7500-4fa4-a2f3-14c8b87f2841",
   "metadata": {},
   "source": [
    "## Workshop :: BMI"
   ]
  },
  {
   "cell_type": "code",
   "execution_count": 17,
   "id": "941c02ce-52d1-4f5f-a3e0-f095f31d385d",
   "metadata": {},
   "outputs": [],
   "source": [
    "def calc_bmi(height_cm, weight_kg):\n",
    "    # https://en.wikipedia.org/wiki/Body_mass_index\n",
    "    return weight_kg / (height_cm/100)**2"
   ]
  },
  {
   "cell_type": "code",
   "execution_count": 18,
   "id": "e494efe6-5901-429a-b068-250fedf24656",
   "metadata": {},
   "outputs": [],
   "source": [
    "kgs = [50, 55, 60]"
   ]
  },
  {
   "cell_type": "code",
   "execution_count": 19,
   "id": "2dedc0a5-bb80-44f9-866a-9813353e08d0",
   "metadata": {},
   "outputs": [
    {
     "data": {
      "text/plain": [
       "[18.144868631151112, 19.959355494266223, 21.773842357381334]"
      ]
     },
     "execution_count": 19,
     "metadata": {},
     "output_type": "execute_result"
    }
   ],
   "source": [
    "[calc_bmi(166, kg) for kg in kgs]"
   ]
  },
  {
   "cell_type": "code",
   "execution_count": 20,
   "id": "2889f8e0-953b-40aa-9423-c8cadde46b7f",
   "metadata": {},
   "outputs": [],
   "source": [
    "cms = [150, 160, 170]"
   ]
  },
  {
   "cell_type": "code",
   "execution_count": 21,
   "id": "040a8ee6-d9b3-477d-a3db-80a256cbdbab",
   "metadata": {},
   "outputs": [
    {
     "data": {
      "text/plain": [
       "[22.22222222222222,\n",
       " 24.444444444444443,\n",
       " 26.666666666666668,\n",
       " 19.531249999999996,\n",
       " 21.484374999999996,\n",
       " 23.437499999999996,\n",
       " 17.301038062283737,\n",
       " 19.031141868512112,\n",
       " 20.761245674740486]"
      ]
     },
     "execution_count": 21,
     "metadata": {},
     "output_type": "execute_result"
    }
   ],
   "source": [
    "[calc_bmi(cm, kg)\n",
    " for cm in cms\n",
    " for kg in kgs]"
   ]
  },
  {
   "cell_type": "code",
   "execution_count": 25,
   "id": "3670dffa-65f8-437b-bb49-1d2220b19227",
   "metadata": {},
   "outputs": [
    {
     "data": {
      "text/plain": [
       "[(150, 55), (150, 60), (160, 60)]"
      ]
     },
     "execution_count": 25,
     "metadata": {},
     "output_type": "execute_result"
    }
   ],
   "source": [
    "[(cm, kg)\n",
    " for cm in cms\n",
    " for kg in kgs\n",
    " if calc_bmi(cm, kg) >= 22.9] # overweight in Thailand (18.5-22.9)"
   ]
  },
  {
   "cell_type": "markdown",
   "id": "cba070a9-0c5f-4edd-9c60-39b425295a61",
   "metadata": {},
   "source": [
    "## Workshop :: Find prime number"
   ]
  },
  {
   "cell_type": "code",
   "execution_count": 27,
   "id": "70fa65a6-727e-44a4-9a92-98635be2e340",
   "metadata": {},
   "outputs": [
    {
     "data": {
      "text/plain": [
       "[2, 3, 5, 7, 11, 13, 17, 19, 23, 29, 31, 37, 41, 43, 47]"
      ]
     },
     "execution_count": 27,
     "metadata": {},
     "output_type": "execute_result"
    }
   ],
   "source": [
    "# find primes in a single line\n",
    "[\n",
    "    n for n in range(2, 50)\n",
    "    if not any(n % i == 0 for i in range(2, n))\n",
    "]"
   ]
  },
  {
   "cell_type": "markdown",
   "id": "bf6d2d87-3c1c-40d4-bfd1-f60e971e3f0e",
   "metadata": {},
   "source": [
    "## Workshop :: Average height"
   ]
  },
  {
   "cell_type": "code",
   "execution_count": 31,
   "id": "b64478d4-ff9f-4d86-b642-bdec3df56513",
   "metadata": {},
   "outputs": [
    {
     "name": "stdout",
     "output_type": "stream",
     "text": [
      "Average height (cm): 146.50\n"
     ]
    }
   ],
   "source": [
    "health_dicts = [\n",
    "    {'height_cm': 152, 'weight_kg': 48, 'age': 63, 'male_yn': 1},\n",
    "    {'height_cm': 157, 'weight_kg': 53, 'age': 41, 'male_yn': 1},\n",
    "    {'height_cm': 140, 'weight_kg': 37, 'age': 63, 'male_yn': 0},\n",
    "    {'height_cm': 137, 'weight_kg': 32, 'age': 65, 'male_yn': 0},\n",
    "]\n",
    "\n",
    "from statistics import mean\n",
    "avg_height_cm = mean(d['height_cm'] for d in health_dicts)\n",
    "print(f'Average height (cm): {avg_height_cm:.2f}')"
   ]
  },
  {
   "cell_type": "code",
   "execution_count": null,
   "id": "115d8b2b-da49-4e5c-800e-9db6da6e2537",
   "metadata": {},
   "outputs": [],
   "source": []
  }
 ],
 "metadata": {
  "kernelspec": {
   "display_name": "Python 3 (ipykernel)",
   "language": "python",
   "name": "python3"
  },
  "language_info": {
   "codemirror_mode": {
    "name": "ipython",
    "version": 3
   },
   "file_extension": ".py",
   "mimetype": "text/x-python",
   "name": "python",
   "nbconvert_exporter": "python",
   "pygments_lexer": "ipython3",
   "version": "3.12.10"
  }
 },
 "nbformat": 4,
 "nbformat_minor": 5
}
